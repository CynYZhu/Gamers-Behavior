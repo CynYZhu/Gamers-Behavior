{
 "cells": [
  {
   "cell_type": "markdown",
   "metadata": {},
   "source": [
    "# Project 3: Understanding User Behavior\n",
    " \n",
    "\n",
    "### Group project by Da Qi Ren, Frank Staszak and Cynthia Zhu \n",
    "### December 2021\n"
   ]
  },
  {
   "cell_type": "markdown",
   "metadata": {},
   "source": [
    "## PART 1: Introduction and Platform Setup.\n",
    "\n",
    "\n",
    "### 1.1 Project Goal: Understanding User Behavior\n",
    "\n",
    "We are data scientists at a game development company. The latest mobile game has two events you're interested in tracking: buy a sword & join guild. Each has metadata characterstic of such events (i.e., sword type, guild name, etc)\n",
    "\n",
    "Functions\n",
    "- Instrument API server to log events to Kafka\n",
    "\n",
    "- Assembled a data pipeline to catch these events: use Spark streaming to filter select event types from Kafka, land them into HDFS/parquet to make them available for analysis using Presto.\n",
    "\n",
    "- Used Apache Bench to generate test data stream for pipeline.\n",
    "\n",
    "- Produced an analytics report describing of the pipeline and some basic analysis of the events are provided. Explaining the pipeline is key for this project!\n",
    "\n",
    "Events in this pipeline are generated events which make them hard to connect to actual business decisions. However, this project is to demonstrate an ability to plumb this pipeline end-to-end, which includes initially generating test data as well as submitting a notebook-based report of at least simple event analytics. That said the analytics will only be a small part of the notebook. \n",
    "\n",
    "\n",
    "### 1.2 Platform Setup\n",
    "\n",
    "Environment:   \n",
    "\n",
    "| Name         | Command | State       | Ports |\n",
    "|---------------|-------|-------------|-------|\n",
    "| project-3-cynyzhu_cloudera_1          | /usr/bin/docker-entrypoint ...    | Up     | 10000/tcp, 50070/tcp, 8020/tcp,   |\n",
    "| project-3-cynyzhu_kafka_1        | /etc/confluent/docker/run    | Up       | 29092/tcp, 9092/tcp      |\n",
    "| project-3-cynyzhu_mids_1      |  /bin/bash     | Up       | 8888/tcp   |\n",
    "| project-3-cynyzhu_presto_1   | /usr/bin/docker-entrypoint ...    | Up      | 8080/tcp    |\n",
    "| project-3-cynyzhu_spark_1   | docker-entrypoint.sh bash    | Up      | 0.0.0.0:7000->7000/tcp,:::7000->7000/tcp    |\n",
    "| project-3-cynyzhu_zookeeper_1   | /etc/confluent/docker/run    | Up      | 2181/tcp, 2888/tcp, 32181/tcp, 3888/tcp     |\n",
    "\n",
    "\n",
    "### 1.3. Docker Commands\n",
    "\n",
    "##### Starting up the cluster\n",
    "```\n",
    "docker-compose up -d\n",
    "docker-compose ps\n",
    "docker ps -a\n",
    "```\n",
    "\n",
    "##### Creating a topic\n",
    "\n",
    "Function:Kafka for event streaming\n",
    "\n",
    "Create topic called \"events\"\n",
    "\n",
    "```\n",
    "docker-compose exec kafka kafka-topics --create --topic events --partitions 1 --replication-factor 1 --bootstrap-server kafka:29092\n",
    "```\n",
    "\n",
    "##### Flask \n",
    "\n",
    "Function: Run the flask server in one CLI window (create.sh)\n",
    "\n",
    "```\n",
    "docker-compose exec mids env FLASK_APP=/w205/project-3-CynYZhu/game_api.py flask run --host 0.0.0.0\n",
    "```\n",
    "\n",
    "##### Apache Bench \n",
    "\n",
    "Generate data with Apache Bench in a different CLI window (event.sh)\n",
    "The scinario includes 5 players having random numbers of purchase events and states.\n",
    "\n",
    "\n",
    "| Users         | \n",
    "|---------------|\n",
    "| user1.comcast.com           | \n",
    "| user2.att.com        | \n",
    "| user3.google.com       | \n",
    "| user4.isvc.com    |\n",
    "| user5.berkeley.com   | \n",
    "\n",
    "\n",
    "14 events for each of players in the game:\n",
    "\n",
    "default, purchase_a_lightsaber_sword, return_a_lightsaber_sword, purchase_a_buster_sword, return_a_buster_sword,purchase_a_diamond_sword, return_a_diamond_sword, purchase_a_helmet，join_guild, purchase_a_spear, start_a_war, return_a_helmet，join_guild, return_a_spear\n",
    "\n",
    "A sample of Apache Bench:\n",
    "\n",
    "```\n",
    "docker-compose exec mids ab -n 5 -H \"Host: user5.berkeley.com\" http://localhost:5000/purchase_a_lightsaber_sword\n",
    "docker-compose exec mids ab -n 2 -H \"Host: user5.berkeley.com\" http://localhost:5000/purchase_a_buster_sword\n",
    "docker-compose exec mids ab -n 3 -H \"Host: user5.berkeley.com\" http://localhost:5000/purchase_a_diamond_sword\n",
    "docker-compose exec mids ab -n 1 -H \"Host: user5.berkeley.com\" http://localhost:5000/purchase_a_helmet\n",
    "```\n",
    "\n",
    "##### Shutting down the cluster (after completing all tasks)  \n",
    "```\n",
    "docker-compose down\n",
    "docker-compose ps\n",
    "docker ps -a \n",
    "```\n",
    " \n",
    "\n",
    "### 1.4 using scripts for above operations: \n",
    "\n",
    "Shell script: Spin up kafka and flask (create.sh)\n",
    "```\n",
    "docker-compose exec kafka kafka-topics --create --topic events --partitions 1 --replication-factor 1 --bootstrap-server kafka:29092\n",
    "docker-compose exec mids env FLASK_APP=/w205/project-3-CynYZhu/game_api.py flask run --host 0.0.0.0\n",
    "```\n",
    "\n",
    "Shell script: run Apache Bench (events.sh)\n",
    "```\n",
    "docker-compose exec mids ab -n 3 -H \"Host: user5.berkeley.com\" http://localhost:5000/purchase_a_diamond_sword\n",
    "```\n",
    "\n",
    "Shell script: Run Apache Spark in Jupyter Notebook (jupyter.sh)\n",
    "\n",
    "```\n",
    "docker-compose exec spark env PYSPARK_DRIVER_PYTHON=jupyter PYSPARK_DRIVER_PYTHON_OPTS='notebook --no-browser --port 7000 --ip 0.0.0.0 --allow-root'  pyspark\n",
    "```\n",
    "\n",
    " \n",
    "### 1.5 A summary of the pipeline platform \n",
    "\n",
    "A cluster of containers for kafka, zookeeper, spark, mids, redis, presto, and cloudera images are spined up on the mids container:\n",
    "\n",
    "- Flask works as game API server, accepting and processing game requests, handling for purchasing products or joining a guild and others.\n",
    "- The game API server sends the event data to Kafka server.\n",
    "- The spark scripts that initiates a read/write stream that reads the Kafka logs and writes them out to parquet files in HDFS. \n",
    "- A spark script works for each event type: purchase and return events, war events, and other events. \n",
    "- Spark scripts are made for defining the schema, filtering by event type, and writing the a specified HDFS directory. \n",
    "- A Hive was run to declare the schema of the datatables and access parquet files to make data queryable from Presto.\n",
    "- Queries are performed from Presto that return the results.\n",
    "- The entire pipeline was tested by using Apache Bench in spark streaming jobs.\n",
    "\n",
    " \n",
    "\n",
    "### 1.6 Implementation of shopping cart\n",
    "\n",
    "The Shopping Cart uses as a source the event data from Kafka/Spark, specifically the product, price, user, price_tot columns are used to create an in-memory SQLLite table that serves as the table that represents the data in the user's current shopping cart. The SQLite database is used to implement the shopping cart, it is a built-in feature of Python, which has all the functions required for the back end of a personal database or even a data-driven website. The code is written in a Jupyter notebook, but it should also run well as a standalone Python program.\n",
    "\n",
    "- Implementation 1\n",
    "\n",
    "Stage 1, preprocessing: In this stage we extract the data from the event in Spark to an Array, then transform the extracted data to the proper format for insertion into SQLLite.\n",
    "Stage 2, building the cart: In this stage we perform DDL/DML operations to build and modify the contents of the shopping cart, where a user may add or remove items from their shopping cart.\n",
    "\n",
    "- Implementation 2\n",
    "\n",
    "Use Pandas and SQLite together to store data frames permanently in the table and read them directly into new data frames as needed. You can use simple SQL commands to select and filter data. Make purchases, refunds, and account processing.  \n",
    "\n",
    "The functions include creating the CART table which supports the adding products to shopping cart, Using the preprocessed event data, insert the event data from Spark into the SQLLite CART table. We then select the event data from the SQLLite CART table. The event data includes purchasing items and return items, counting income, etc. And lastly, we can delete the inserted event from the CART table. "
   ]
  },
  {
   "cell_type": "markdown",
   "metadata": {},
   "source": [
    "## PART 2:  Flask/Kafka/Spark Streaming \n",
    "\n",
    "In this section, I use Spark streaming to filter select event types from Kafka and land them into HDFS/parquet to make them available for analysis using Presto. "
   ]
  },
  {
   "cell_type": "code",
   "execution_count": 1,
   "metadata": {
    "collapsed": true,
    "jupyter": {
     "outputs_hidden": true
    },
    "tags": []
   },
   "outputs": [],
   "source": [
    "import json\n",
    "from pyspark.sql import Row\n",
    "from pyspark.sql.functions import udf, from_json\n",
    "from pyspark.sql.types import StructType, StructField, StringType\n",
    "from IPython.core.interactiveshell import InteractiveShell\n",
    "InteractiveShell.ast_node_interactivity = \"all\"\n",
    "import pandas as pd"
   ]
  },
  {
   "cell_type": "markdown",
   "metadata": {
    "jupyter": {
     "outputs_hidden": true
    }
   },
   "source": [
    "#### 2.1 Read in raw events\n",
    "\n",
    "This section uses Spark to read in raw events from Kafka. "
   ]
  },
  {
   "cell_type": "code",
   "execution_count": 2,
   "metadata": {
    "collapsed": true,
    "jupyter": {
     "outputs_hidden": true
    },
    "tags": []
   },
   "outputs": [],
   "source": [
    "# load raw events\n",
    "raw_events = spark \\\n",
    "        .read \\\n",
    "        .format(\"kafka\") \\\n",
    "        .option(\"kafka.bootstrap.servers\", \"kafka:29092\") \\\n",
    "        .option(\"subscribe\", \"events\") \\\n",
    "        .option(\"startingOffsets\", \"earliest\") \\\n",
    "        .option(\"endingOffsets\", \"latest\") \\\n",
    "        .load()"
   ]
  },
  {
   "cell_type": "code",
   "execution_count": 3,
   "metadata": {},
   "outputs": [
    {
     "name": "stdout",
     "output_type": "stream",
     "text": [
      "+----+--------------------+------+---------+------+--------------------+-------------+\n",
      "| key|               value| topic|partition|offset|           timestamp|timestampType|\n",
      "+----+--------------------+------+---------+------+--------------------+-------------+\n",
      "|null|[7B 22 65 76 65 6...|events|        0|     0|2021-12-13 01:00:...|            0|\n",
      "|null|[7B 22 65 76 65 6...|events|        0|     1|2021-12-13 01:00:...|            0|\n",
      "|null|[7B 22 65 76 65 6...|events|        0|     2|2021-12-13 01:00:...|            0|\n",
      "|null|[7B 22 65 76 65 6...|events|        0|     3|2021-12-13 01:00:...|            0|\n",
      "|null|[7B 22 65 76 65 6...|events|        0|     4|2021-12-13 01:00:...|            0|\n",
      "+----+--------------------+------+---------+------+--------------------+-------------+\n",
      "only showing top 5 rows\n",
      "\n"
     ]
    }
   ],
   "source": [
    "# view raw events\n",
    "raw_events.show(5)"
   ]
  },
  {
   "cell_type": "markdown",
   "metadata": {},
   "source": [
    "#### 2.2 Filter to select \"purchase_sword\" events\n",
    "\n",
    "In this section, we filter the Kafka events such that I remove all but the purchase_sword events. "
   ]
  },
  {
   "cell_type": "code",
   "execution_count": 4,
   "metadata": {
    "collapsed": true,
    "jupyter": {
     "outputs_hidden": true
    }
   },
   "outputs": [],
   "source": [
    " @udf('boolean')\n",
    "def is_purchase_sword(event_as_json):\n",
    "    event = json.loads(event_as_json)\n",
    "    if event['event_type'] == 'purchase_sword':\n",
    "        return True\n",
    "    return False"
   ]
  },
  {
   "cell_type": "code",
   "execution_count": 5,
   "metadata": {
    "collapsed": true,
    "jupyter": {
     "outputs_hidden": true
    }
   },
   "outputs": [],
   "source": [
    "# Get all the purchase_sword events.\n",
    "purchase_sword_events = raw_events \\\n",
    "        .select(raw_events.value.cast('string').alias('raw'),\n",
    "                raw_events.timestamp.cast('string')) \\\n",
    "        .filter(is_purchase_sword('raw'))"
   ]
  },
  {
   "cell_type": "code",
   "execution_count": 6,
   "metadata": {},
   "outputs": [
    {
     "name": "stdout",
     "output_type": "stream",
     "text": [
      "root\n",
      " |-- raw: string (nullable = true)\n",
      " |-- timestamp: string (nullable = true)\n",
      "\n"
     ]
    }
   ],
   "source": [
    "# Show the puchase_sword_events schema.\n",
    "purchase_sword_events.printSchema()"
   ]
  },
  {
   "cell_type": "markdown",
   "metadata": {},
   "source": [
    "#### 2.3 Filter to select \"purchase_sword\" events"
   ]
  },
  {
   "cell_type": "markdown",
   "metadata": {},
   "source": [
    "Show all of the puchase_sword events."
   ]
  },
  {
   "cell_type": "code",
   "execution_count": 7,
   "metadata": {},
   "outputs": [
    {
     "name": "stdout",
     "output_type": "stream",
     "text": [
      "+--------------+----------------+-----+\n",
      "|event_type    |description     |price|\n",
      "+--------------+----------------+-----+\n",
      "|purchase_sword|lightsaber_sword|150.0|\n",
      "|purchase_sword|buster_sword    |200.0|\n",
      "|purchase_sword|buster_sword    |200.0|\n",
      "|purchase_sword|diamond_sword   |300.0|\n",
      "|purchase_sword|diamond_sword   |300.0|\n",
      "+--------------+----------------+-----+\n",
      "only showing top 5 rows\n",
      "\n"
     ]
    }
   ],
   "source": [
    "# purchase_sword_events.show()\n",
    "from pyspark.sql.functions import from_json, col\n",
    "\n",
    "json_schema = spark.read.json(purchase_sword_events.rdd.map(lambda row: row.raw)).schema\n",
    "\n",
    "df0 = purchase_sword_events.withColumn('json', from_json(col('raw'), json_schema))\n",
    "\n",
    "# Select and view the specific JSON fields we're interested in. \n",
    "df1 = df0.select('json.event_type', 'json.description', 'json.price')\n",
    "\n",
    "df1.show(5, truncate=False)"
   ]
  },
  {
   "cell_type": "code",
   "execution_count": 8,
   "metadata": {
    "collapsed": true,
    "jupyter": {
     "outputs_hidden": true
    }
   },
   "outputs": [],
   "source": [
    "extracted_purchase_sword_events = purchase_sword_events \\\n",
    "        .rdd \\\n",
    "        .map(lambda r: Row(timestamp=r.timestamp, **json.loads(r.raw))) \\\n",
    "        .toDF()"
   ]
  },
  {
   "cell_type": "code",
   "execution_count": 9,
   "metadata": {},
   "outputs": [
    {
     "name": "stdout",
     "output_type": "stream",
     "text": [
      "root\n",
      " |-- Accept: string (nullable = true)\n",
      " |-- Host: string (nullable = true)\n",
      " |-- User-Agent: string (nullable = true)\n",
      " |-- description: string (nullable = true)\n",
      " |-- event_type: string (nullable = true)\n",
      " |-- price: double (nullable = true)\n",
      " |-- timestamp: string (nullable = true)\n",
      "\n"
     ]
    }
   ],
   "source": [
    "extracted_purchase_sword_events.printSchema()"
   ]
  },
  {
   "cell_type": "code",
   "execution_count": 10,
   "metadata": {},
   "outputs": [
    {
     "name": "stdout",
     "output_type": "stream",
     "text": [
      "+------+-----------------+---------------+----------------+--------------+-----+--------------------+\n",
      "|Accept|             Host|     User-Agent|     description|    event_type|price|           timestamp|\n",
      "+------+-----------------+---------------+----------------+--------------+-----+--------------------+\n",
      "|   */*|user1.comcast.com|ApacheBench/2.3|lightsaber_sword|purchase_sword|150.0|2021-12-13 01:00:...|\n",
      "|   */*|user1.comcast.com|ApacheBench/2.3|    buster_sword|purchase_sword|200.0|2021-12-13 01:00:...|\n",
      "|   */*|user1.comcast.com|ApacheBench/2.3|    buster_sword|purchase_sword|200.0|2021-12-13 01:00:...|\n",
      "|   */*|user1.comcast.com|ApacheBench/2.3|   diamond_sword|purchase_sword|300.0|2021-12-13 01:00:...|\n",
      "|   */*|user1.comcast.com|ApacheBench/2.3|   diamond_sword|purchase_sword|300.0|2021-12-13 01:00:...|\n",
      "+------+-----------------+---------------+----------------+--------------+-----+--------------------+\n",
      "only showing top 5 rows\n",
      "\n"
     ]
    }
   ],
   "source": [
    "extracted_purchase_sword_events.show(5)"
   ]
  },
  {
   "cell_type": "markdown",
   "metadata": {},
   "source": [
    "#### 2.4 Save purchase events\n",
    "\n",
    "Save the purchase_sword events in a folder based on the purchase type, in this case, swords. "
   ]
  },
  {
   "cell_type": "code",
   "execution_count": 11,
   "metadata": {
    "collapsed": true,
    "jupyter": {
     "outputs_hidden": true
    }
   },
   "outputs": [],
   "source": [
    "# Load all purchase events. \n",
    "# Write the swords data to swords.parquet.\n",
    "extracted_purchase_sword_events \\\n",
    "        .write \\\n",
    "        .mode('overwrite') \\\n",
    "        .parquet('/tmp/purchase/swords.parquet')"
   ]
  },
  {
   "cell_type": "code",
   "execution_count": 12,
   "metadata": {
    "collapsed": true,
    "jupyter": {
     "outputs_hidden": true
    }
   },
   "outputs": [],
   "source": [
    " \n",
    "sword_purchases = spark.read.parquet('/tmp/purchase/swords.parquet')"
   ]
  },
  {
   "cell_type": "code",
   "execution_count": 13,
   "metadata": {},
   "outputs": [
    {
     "name": "stdout",
     "output_type": "stream",
     "text": [
      "+------+-----------------+---------------+----------------+--------------+-----+--------------------+\n",
      "|Accept|             Host|     User-Agent|     description|    event_type|price|           timestamp|\n",
      "+------+-----------------+---------------+----------------+--------------+-----+--------------------+\n",
      "|   */*|user1.comcast.com|ApacheBench/2.3|lightsaber_sword|purchase_sword|150.0|2021-12-13 01:00:...|\n",
      "|   */*|user1.comcast.com|ApacheBench/2.3|    buster_sword|purchase_sword|200.0|2021-12-13 01:00:...|\n",
      "|   */*|user1.comcast.com|ApacheBench/2.3|    buster_sword|purchase_sword|200.0|2021-12-13 01:00:...|\n",
      "|   */*|user1.comcast.com|ApacheBench/2.3|   diamond_sword|purchase_sword|300.0|2021-12-13 01:00:...|\n",
      "|   */*|user1.comcast.com|ApacheBench/2.3|   diamond_sword|purchase_sword|300.0|2021-12-13 01:00:...|\n",
      "+------+-----------------+---------------+----------------+--------------+-----+--------------------+\n",
      "only showing top 5 rows\n",
      "\n"
     ]
    }
   ],
   "source": [
    " \n",
    "sword_purchases.show(5)"
   ]
  },
  {
   "cell_type": "markdown",
   "metadata": {},
   "source": [
    "## PART 3: Event Analysis\n",
    "\n",
    "Here we perform analysis on user events, viewing game activities such as starting wars and making purchases."
   ]
  },
  {
   "cell_type": "code",
   "execution_count": 14,
   "metadata": {
    "collapsed": true,
    "jupyter": {
     "outputs_hidden": true
    }
   },
   "outputs": [],
   "source": [
    "sword_purchases.registerTempTable('purchases')"
   ]
  },
  {
   "cell_type": "code",
   "execution_count": 15,
   "metadata": {
    "collapsed": true,
    "jupyter": {
     "outputs_hidden": true
    }
   },
   "outputs": [],
   "source": [
    "purchases_by_example1 = spark.sql(\"select * from purchases where Host = 'user1.att.com'\")"
   ]
  },
  {
   "cell_type": "code",
   "execution_count": 16,
   "metadata": {
    "collapsed": true,
    "jupyter": {
     "outputs_hidden": true
    }
   },
   "outputs": [],
   "source": [
    "purchases_by_example2 = spark.sql(\"select * from purchases  \")"
   ]
  },
  {
   "cell_type": "code",
   "execution_count": 17,
   "metadata": {},
   "outputs": [
    {
     "name": "stdout",
     "output_type": "stream",
     "text": [
      "+------+-----------------+---------------+----------------+--------------+-----+--------------------+\n",
      "|Accept|             Host|     User-Agent|     description|    event_type|price|           timestamp|\n",
      "+------+-----------------+---------------+----------------+--------------+-----+--------------------+\n",
      "|   */*|user1.comcast.com|ApacheBench/2.3|lightsaber_sword|purchase_sword|150.0|2021-12-13 01:00:...|\n",
      "|   */*|user1.comcast.com|ApacheBench/2.3|    buster_sword|purchase_sword|200.0|2021-12-13 01:00:...|\n",
      "|   */*|user1.comcast.com|ApacheBench/2.3|    buster_sword|purchase_sword|200.0|2021-12-13 01:00:...|\n",
      "|   */*|user1.comcast.com|ApacheBench/2.3|   diamond_sword|purchase_sword|300.0|2021-12-13 01:00:...|\n",
      "|   */*|user1.comcast.com|ApacheBench/2.3|   diamond_sword|purchase_sword|300.0|2021-12-13 01:00:...|\n",
      "+------+-----------------+---------------+----------------+--------------+-----+--------------------+\n",
      "only showing top 5 rows\n",
      "\n"
     ]
    }
   ],
   "source": [
    "purchases_by_example2.show(5)"
   ]
  },
  {
   "cell_type": "code",
   "execution_count": 18,
   "metadata": {
    "collapsed": true,
    "jupyter": {
     "outputs_hidden": true
    }
   },
   "outputs": [],
   "source": [
    "df_purchase = purchases_by_example2.toPandas()"
   ]
  },
  {
   "cell_type": "code",
   "execution_count": 19,
   "metadata": {},
   "outputs": [
    {
     "data": {
      "text/html": [
       "<div>\n",
       "<style>\n",
       "    .dataframe thead tr:only-child th {\n",
       "        text-align: right;\n",
       "    }\n",
       "\n",
       "    .dataframe thead th {\n",
       "        text-align: left;\n",
       "    }\n",
       "\n",
       "    .dataframe tbody tr th {\n",
       "        vertical-align: top;\n",
       "    }\n",
       "</style>\n",
       "<table border=\"1\" class=\"dataframe\">\n",
       "  <thead>\n",
       "    <tr style=\"text-align: right;\">\n",
       "      <th></th>\n",
       "      <th>Accept</th>\n",
       "      <th>Host</th>\n",
       "      <th>User-Agent</th>\n",
       "      <th>description</th>\n",
       "      <th>event_type</th>\n",
       "      <th>price</th>\n",
       "      <th>timestamp</th>\n",
       "    </tr>\n",
       "  </thead>\n",
       "  <tbody>\n",
       "    <tr>\n",
       "      <th>0</th>\n",
       "      <td>*/*</td>\n",
       "      <td>user1.comcast.com</td>\n",
       "      <td>ApacheBench/2.3</td>\n",
       "      <td>lightsaber_sword</td>\n",
       "      <td>purchase_sword</td>\n",
       "      <td>150.0</td>\n",
       "      <td>2021-12-13 01:00:16.093</td>\n",
       "    </tr>\n",
       "    <tr>\n",
       "      <th>1</th>\n",
       "      <td>*/*</td>\n",
       "      <td>user1.comcast.com</td>\n",
       "      <td>ApacheBench/2.3</td>\n",
       "      <td>buster_sword</td>\n",
       "      <td>purchase_sword</td>\n",
       "      <td>200.0</td>\n",
       "      <td>2021-12-13 01:00:17.129</td>\n",
       "    </tr>\n",
       "    <tr>\n",
       "      <th>2</th>\n",
       "      <td>*/*</td>\n",
       "      <td>user1.comcast.com</td>\n",
       "      <td>ApacheBench/2.3</td>\n",
       "      <td>buster_sword</td>\n",
       "      <td>purchase_sword</td>\n",
       "      <td>200.0</td>\n",
       "      <td>2021-12-13 01:00:17.139</td>\n",
       "    </tr>\n",
       "    <tr>\n",
       "      <th>3</th>\n",
       "      <td>*/*</td>\n",
       "      <td>user1.comcast.com</td>\n",
       "      <td>ApacheBench/2.3</td>\n",
       "      <td>diamond_sword</td>\n",
       "      <td>purchase_sword</td>\n",
       "      <td>300.0</td>\n",
       "      <td>2021-12-13 01:00:17.961</td>\n",
       "    </tr>\n",
       "    <tr>\n",
       "      <th>4</th>\n",
       "      <td>*/*</td>\n",
       "      <td>user1.comcast.com</td>\n",
       "      <td>ApacheBench/2.3</td>\n",
       "      <td>diamond_sword</td>\n",
       "      <td>purchase_sword</td>\n",
       "      <td>300.0</td>\n",
       "      <td>2021-12-13 01:00:17.975</td>\n",
       "    </tr>\n",
       "  </tbody>\n",
       "</table>\n",
       "</div>"
      ],
      "text/plain": [
       "  Accept               Host       User-Agent       description  \\\n",
       "0    */*  user1.comcast.com  ApacheBench/2.3  lightsaber_sword   \n",
       "1    */*  user1.comcast.com  ApacheBench/2.3      buster_sword   \n",
       "2    */*  user1.comcast.com  ApacheBench/2.3      buster_sword   \n",
       "3    */*  user1.comcast.com  ApacheBench/2.3     diamond_sword   \n",
       "4    */*  user1.comcast.com  ApacheBench/2.3     diamond_sword   \n",
       "\n",
       "       event_type  price                timestamp  \n",
       "0  purchase_sword  150.0  2021-12-13 01:00:16.093  \n",
       "1  purchase_sword  200.0  2021-12-13 01:00:17.129  \n",
       "2  purchase_sword  200.0  2021-12-13 01:00:17.139  \n",
       "3  purchase_sword  300.0  2021-12-13 01:00:17.961  \n",
       "4  purchase_sword  300.0  2021-12-13 01:00:17.975  "
      ]
     },
     "execution_count": 19,
     "metadata": {},
     "output_type": "execute_result"
    }
   ],
   "source": [
    "# view pandas dataframe\n",
    "df_purchase.head(5)"
   ]
  },
  {
   "cell_type": "code",
   "execution_count": 20,
   "metadata": {
    "collapsed": true,
    "jupyter": {
     "outputs_hidden": true
    }
   },
   "outputs": [],
   "source": [
    "@udf('boolean')\n",
    "def is_war(event_as_json):\n",
    "    event = json.loads(event_as_json)\n",
    "    if event['event_type'].endswith('war'):\n",
    "        return True\n",
    "    return False\n",
    "\n",
    "@udf('boolean')\n",
    "def is_purchase(event_as_json):\n",
    "    event = json.loads(event_as_json)\n",
    "    if event['event_type'].startswith('purchase'):\n",
    "        return True\n",
    "    return False\n",
    "\n",
    "@udf('boolean')\n",
    "def is_return(event_as_json):\n",
    "    event = json.loads(event_as_json)\n",
    "    if event['event_type'].startswith('return'):\n",
    "        return True\n",
    "    return False"
   ]
  },
  {
   "cell_type": "code",
   "execution_count": 21,
   "metadata": {},
   "outputs": [
    {
     "name": "stdout",
     "output_type": "stream",
     "text": [
      "+--------------------+--------------------+\n",
      "|                 raw|           timestamp|\n",
      "+--------------------+--------------------+\n",
      "|{\"Host\": \"user1.c...|2021-12-13 01:00:...|\n",
      "|{\"Host\": \"user1.c...|2021-12-13 01:00:...|\n",
      "|{\"Host\": \"user1.c...|2021-12-13 01:00:...|\n",
      "|{\"Host\": \"user1.c...|2021-12-13 01:00:...|\n",
      "|{\"Host\": \"user1.c...|2021-12-13 01:00:...|\n",
      "|{\"Host\": \"user2.a...|2021-12-13 01:00:...|\n",
      "|{\"Host\": \"user2.a...|2021-12-13 01:00:...|\n",
      "|{\"Host\": \"user2.a...|2021-12-13 01:00:...|\n",
      "|{\"Host\": \"user2.a...|2021-12-13 01:00:...|\n",
      "|{\"Host\": \"user2.a...|2021-12-13 01:00:...|\n",
      "|{\"Host\": \"user2.a...|2021-12-13 01:00:...|\n",
      "|{\"Host\": \"user3.g...|2021-12-13 01:00:...|\n",
      "|{\"Host\": \"user3.g...|2021-12-13 01:00:...|\n",
      "|{\"Host\": \"user3.g...|2021-12-13 01:00:...|\n",
      "|{\"Host\": \"user3.g...|2021-12-13 01:00:...|\n",
      "|{\"Host\": \"user4.i...|2021-12-13 01:00:...|\n",
      "|{\"Host\": \"user4.i...|2021-12-13 01:00:...|\n",
      "|{\"Host\": \"user4.i...|2021-12-13 01:00:...|\n",
      "|{\"Host\": \"user5.b...|2021-12-13 01:00:...|\n",
      "|{\"Host\": \"user5.b...|2021-12-13 01:00:...|\n",
      "+--------------------+--------------------+\n",
      "only showing top 20 rows\n",
      "\n",
      "root\n",
      " |-- Accept: string (nullable = true)\n",
      " |-- Host: string (nullable = true)\n",
      " |-- User-Agent: string (nullable = true)\n",
      " |-- description: string (nullable = true)\n",
      " |-- event_type: string (nullable = true)\n",
      " |-- timestamp: string (nullable = true)\n",
      "\n",
      "+------+-----------------+---------------+-----------+----------+--------------------+\n",
      "|Accept|             Host|     User-Agent|description|event_type|           timestamp|\n",
      "+------+-----------------+---------------+-----------+----------+--------------------+\n",
      "|   */*|user1.comcast.com|ApacheBench/2.3|   hard_war| start_war|2021-12-13 01:00:...|\n",
      "|   */*|user1.comcast.com|ApacheBench/2.3|   hard_war| start_war|2021-12-13 01:00:...|\n",
      "|   */*|user1.comcast.com|ApacheBench/2.3|   hard_war| start_war|2021-12-13 01:00:...|\n",
      "|   */*|user1.comcast.com|ApacheBench/2.3|   hard_war| start_war|2021-12-13 01:00:...|\n",
      "|   */*|user1.comcast.com|ApacheBench/2.3|   hard_war| start_war|2021-12-13 01:00:...|\n",
      "+------+-----------------+---------------+-----------+----------+--------------------+\n",
      "only showing top 5 rows\n",
      "\n"
     ]
    }
   ],
   "source": [
    "# can be used for any events: \n",
    "# war events refer to who fights with whom\n",
    "# war_events processes: \n",
    "\n",
    "#1 view events \n",
    "war_events = raw_events.\\\n",
    "             select(raw_events.value.cast('string').alias('raw'), \n",
    "                    raw_events.timestamp.cast('string')). \\\n",
    "             filter(is_war('raw'))\n",
    "war_events.show()\n",
    "\n",
    "#2 printschema\n",
    "extracted_war_events = war_events.rdd. \\\n",
    "                       map(lambda r: Row(timestamp=r.timestamp, **json.loads(r.raw))). \\\n",
    "                       toDF()\n",
    "extracted_war_events.printSchema()\n",
    "\n",
    "#3 write to parquet and show \n",
    "extracted_war_events.write.mode('overwrite').parquet('/tmp/war')\n",
    "war = spark.read.parquet('/tmp/war')\n",
    "war.show(5)"
   ]
  },
  {
   "cell_type": "code",
   "execution_count": 22,
   "metadata": {},
   "outputs": [
    {
     "name": "stdout",
     "output_type": "stream",
     "text": [
      "+--------------------+--------------------+\n",
      "|                 raw|           timestamp|\n",
      "+--------------------+--------------------+\n",
      "|{\"event_type\": \"p...|2021-12-13 01:00:...|\n",
      "|{\"event_type\": \"p...|2021-12-13 01:00:...|\n",
      "|{\"event_type\": \"p...|2021-12-13 01:00:...|\n",
      "|{\"event_type\": \"p...|2021-12-13 01:00:...|\n",
      "|{\"event_type\": \"p...|2021-12-13 01:00:...|\n",
      "|{\"event_type\": \"p...|2021-12-13 01:00:...|\n",
      "|{\"event_type\": \"p...|2021-12-13 01:00:...|\n",
      "|{\"event_type\": \"p...|2021-12-13 01:00:...|\n",
      "|{\"event_type\": \"p...|2021-12-13 01:00:...|\n",
      "|{\"event_type\": \"p...|2021-12-13 01:00:...|\n",
      "|{\"event_type\": \"p...|2021-12-13 01:00:...|\n",
      "|{\"event_type\": \"p...|2021-12-13 01:00:...|\n",
      "|{\"event_type\": \"p...|2021-12-13 01:00:...|\n",
      "|{\"event_type\": \"p...|2021-12-13 01:00:...|\n",
      "|{\"event_type\": \"p...|2021-12-13 01:00:...|\n",
      "|{\"event_type\": \"p...|2021-12-13 01:00:...|\n",
      "|{\"event_type\": \"p...|2021-12-13 01:00:...|\n",
      "|{\"event_type\": \"p...|2021-12-13 01:00:...|\n",
      "|{\"event_type\": \"p...|2021-12-13 01:00:...|\n",
      "|{\"event_type\": \"p...|2021-12-13 01:00:...|\n",
      "+--------------------+--------------------+\n",
      "only showing top 20 rows\n",
      "\n",
      "root\n",
      " |-- Accept: string (nullable = true)\n",
      " |-- Host: string (nullable = true)\n",
      " |-- User-Agent: string (nullable = true)\n",
      " |-- description: string (nullable = true)\n",
      " |-- event_type: string (nullable = true)\n",
      " |-- timestamp: string (nullable = true)\n",
      "\n",
      "+------+-----------------+---------------+-----------+----------+--------------------+\n",
      "|Accept|             Host|     User-Agent|description|event_type|           timestamp|\n",
      "+------+-----------------+---------------+-----------+----------+--------------------+\n",
      "|   */*|user1.comcast.com|ApacheBench/2.3|   hard_war| start_war|2021-12-13 01:00:...|\n",
      "|   */*|user1.comcast.com|ApacheBench/2.3|   hard_war| start_war|2021-12-13 01:00:...|\n",
      "|   */*|user1.comcast.com|ApacheBench/2.3|   hard_war| start_war|2021-12-13 01:00:...|\n",
      "|   */*|user1.comcast.com|ApacheBench/2.3|   hard_war| start_war|2021-12-13 01:00:...|\n",
      "|   */*|user1.comcast.com|ApacheBench/2.3|   hard_war| start_war|2021-12-13 01:00:...|\n",
      "+------+-----------------+---------------+-----------+----------+--------------------+\n",
      "only showing top 5 rows\n",
      "\n"
     ]
    }
   ],
   "source": [
    "# purchase events processes: (1) view events; (2) printschema; (2) write to parquet and show. : \n",
    "\n",
    "purchase_events = raw_events.\\\n",
    "                  select(raw_events.value.cast('string').alias('raw'), \n",
    "                         raw_events.timestamp.cast('string')).\\\n",
    "                  filter(is_purchase('raw'))\n",
    "purchase_events.show()\n",
    "\n",
    "extracted_purchase_events = war_events.\\\n",
    "                            rdd.map(lambda r: Row(timestamp=r.timestamp, **json.loads(r.raw))).\\\n",
    "                            toDF()\n",
    "extracted_purchase_events.printSchema()\n",
    "\n",
    "# Read and show  purchase events.\n",
    "extracted_purchase_events.write.mode('overwrite').parquet('/tmp/purchase/')\n",
    "purchase = spark.read.parquet('/tmp/purchase/*')\n",
    "purchase.show(5) "
   ]
  },
  {
   "cell_type": "code",
   "execution_count": 23,
   "metadata": {},
   "outputs": [
    {
     "name": "stdout",
     "output_type": "stream",
     "text": [
      "+--------------------+--------------------+\n",
      "|                 raw|           timestamp|\n",
      "+--------------------+--------------------+\n",
      "|{\"event_type\": \"r...|2021-12-13 01:00:...|\n",
      "|{\"event_type\": \"r...|2021-12-13 01:00:...|\n",
      "|{\"event_type\": \"r...|2021-12-13 01:00:...|\n",
      "|{\"event_type\": \"r...|2021-12-13 01:00:...|\n",
      "|{\"event_type\": \"r...|2021-12-13 01:00:...|\n",
      "|{\"event_type\": \"r...|2021-12-13 01:00:...|\n",
      "|{\"event_type\": \"r...|2021-12-13 01:00:...|\n",
      "|{\"event_type\": \"r...|2021-12-13 01:00:...|\n",
      "|{\"event_type\": \"r...|2021-12-13 01:00:...|\n",
      "|{\"event_type\": \"r...|2021-12-13 01:00:...|\n",
      "|{\"event_type\": \"r...|2021-12-13 01:00:...|\n",
      "|{\"event_type\": \"r...|2021-12-13 01:00:...|\n",
      "|{\"event_type\": \"r...|2021-12-13 01:00:...|\n",
      "|{\"event_type\": \"r...|2021-12-13 01:00:...|\n",
      "|{\"event_type\": \"r...|2021-12-13 01:00:...|\n",
      "|{\"event_type\": \"r...|2021-12-13 01:00:...|\n",
      "|{\"event_type\": \"r...|2021-12-13 01:00:...|\n",
      "|{\"event_type\": \"r...|2021-12-13 01:00:...|\n",
      "|{\"event_type\": \"r...|2021-12-13 01:00:...|\n",
      "|{\"event_type\": \"r...|2021-12-13 01:00:...|\n",
      "+--------------------+--------------------+\n",
      "only showing top 20 rows\n",
      "\n",
      "root\n",
      " |-- Accept: string (nullable = true)\n",
      " |-- Host: string (nullable = true)\n",
      " |-- User-Agent: string (nullable = true)\n",
      " |-- description: string (nullable = true)\n",
      " |-- event_type: string (nullable = true)\n",
      " |-- price: double (nullable = true)\n",
      " |-- timestamp: string (nullable = true)\n",
      "\n",
      "+------+-----------------+---------------+----------------+------------+------+--------------------+\n",
      "|Accept|             Host|     User-Agent|     description|  event_type| price|           timestamp|\n",
      "+------+-----------------+---------------+----------------+------------+------+--------------------+\n",
      "|   */*|user1.comcast.com|ApacheBench/2.3|   diamond_sword|return_sword|-300.0|2021-12-13 01:00:...|\n",
      "|   */*|user1.comcast.com|ApacheBench/2.3|   diamond_sword|return_sword|-300.0|2021-12-13 01:00:...|\n",
      "|   */*|user1.comcast.com|ApacheBench/2.3|           spear| return_gear|-140.0|2021-12-13 01:00:...|\n",
      "|   */*|    user2.att.com|ApacheBench/2.3|lightsaber_sword|return_sword|-150.0|2021-12-13 01:00:...|\n",
      "|   */*|    user2.att.com|ApacheBench/2.3|lightsaber_sword|return_sword|-150.0|2021-12-13 01:00:...|\n",
      "+------+-----------------+---------------+----------------+------------+------+--------------------+\n",
      "only showing top 5 rows\n",
      "\n"
     ]
    }
   ],
   "source": [
    "return_events = raw_events.\\\n",
    "                  select(raw_events.value.cast('string').alias('raw'), \n",
    "                         raw_events.timestamp.cast('string')).\\\n",
    "                  filter(is_return('raw'))\n",
    "return_events.show()\n",
    "\n",
    "\n",
    "extracted_return_events = return_events.rdd.map(lambda r: Row(timestamp=r.timestamp, **json.loads(r.raw))).toDF()\n",
    "extracted_return_events.printSchema()\n",
    "\n",
    "# Read and show  purchase events.\n",
    "extracted_return_events.write.mode('overwrite').parquet('/tmp/return/')\n",
    "return_evt = spark.read.parquet('/tmp/return/')\n",
    "return_evt.show(5) "
   ]
  },
  {
   "cell_type": "markdown",
   "metadata": {
    "jupyter": {
     "outputs_hidden": true
    }
   },
   "source": [
    "## PART 4: User Behavior Analysis"
   ]
  },
  {
   "cell_type": "code",
   "execution_count": 24,
   "metadata": {},
   "outputs": [
    {
     "data": {
      "text/html": [
       "<div>\n",
       "<style>\n",
       "    .dataframe thead tr:only-child th {\n",
       "        text-align: right;\n",
       "    }\n",
       "\n",
       "    .dataframe thead th {\n",
       "        text-align: left;\n",
       "    }\n",
       "\n",
       "    .dataframe tbody tr th {\n",
       "        vertical-align: top;\n",
       "    }\n",
       "</style>\n",
       "<table border=\"1\" class=\"dataframe\">\n",
       "  <thead>\n",
       "    <tr style=\"text-align: right;\">\n",
       "      <th></th>\n",
       "      <th>Accept</th>\n",
       "      <th>Host</th>\n",
       "      <th>User-Agent</th>\n",
       "      <th>description</th>\n",
       "      <th>event_type</th>\n",
       "      <th>timestamp</th>\n",
       "    </tr>\n",
       "  </thead>\n",
       "  <tbody>\n",
       "    <tr>\n",
       "      <th>0</th>\n",
       "      <td>*/*</td>\n",
       "      <td>user1.comcast.com</td>\n",
       "      <td>ApacheBench/2.3</td>\n",
       "      <td>hard_war</td>\n",
       "      <td>start_war</td>\n",
       "      <td>2021-12-13 01:00:20.528</td>\n",
       "    </tr>\n",
       "    <tr>\n",
       "      <th>1</th>\n",
       "      <td>*/*</td>\n",
       "      <td>user1.comcast.com</td>\n",
       "      <td>ApacheBench/2.3</td>\n",
       "      <td>hard_war</td>\n",
       "      <td>start_war</td>\n",
       "      <td>2021-12-13 01:00:20.538</td>\n",
       "    </tr>\n",
       "    <tr>\n",
       "      <th>2</th>\n",
       "      <td>*/*</td>\n",
       "      <td>user1.comcast.com</td>\n",
       "      <td>ApacheBench/2.3</td>\n",
       "      <td>hard_war</td>\n",
       "      <td>start_war</td>\n",
       "      <td>2021-12-13 01:00:20.545</td>\n",
       "    </tr>\n",
       "    <tr>\n",
       "      <th>3</th>\n",
       "      <td>*/*</td>\n",
       "      <td>user1.comcast.com</td>\n",
       "      <td>ApacheBench/2.3</td>\n",
       "      <td>hard_war</td>\n",
       "      <td>start_war</td>\n",
       "      <td>2021-12-13 01:00:20.556</td>\n",
       "    </tr>\n",
       "    <tr>\n",
       "      <th>4</th>\n",
       "      <td>*/*</td>\n",
       "      <td>user1.comcast.com</td>\n",
       "      <td>ApacheBench/2.3</td>\n",
       "      <td>hard_war</td>\n",
       "      <td>start_war</td>\n",
       "      <td>2021-12-13 01:00:20.562</td>\n",
       "    </tr>\n",
       "  </tbody>\n",
       "</table>\n",
       "</div>"
      ],
      "text/plain": [
       "  Accept               Host       User-Agent description event_type  \\\n",
       "0    */*  user1.comcast.com  ApacheBench/2.3    hard_war  start_war   \n",
       "1    */*  user1.comcast.com  ApacheBench/2.3    hard_war  start_war   \n",
       "2    */*  user1.comcast.com  ApacheBench/2.3    hard_war  start_war   \n",
       "3    */*  user1.comcast.com  ApacheBench/2.3    hard_war  start_war   \n",
       "4    */*  user1.comcast.com  ApacheBench/2.3    hard_war  start_war   \n",
       "\n",
       "                 timestamp  \n",
       "0  2021-12-13 01:00:20.528  \n",
       "1  2021-12-13 01:00:20.538  \n",
       "2  2021-12-13 01:00:20.545  \n",
       "3  2021-12-13 01:00:20.556  \n",
       "4  2021-12-13 01:00:20.562  "
      ]
     },
     "execution_count": 24,
     "metadata": {},
     "output_type": "execute_result"
    },
    {
     "data": {
      "text/html": [
       "<div>\n",
       "<style>\n",
       "    .dataframe thead tr:only-child th {\n",
       "        text-align: right;\n",
       "    }\n",
       "\n",
       "    .dataframe thead th {\n",
       "        text-align: left;\n",
       "    }\n",
       "\n",
       "    .dataframe tbody tr th {\n",
       "        vertical-align: top;\n",
       "    }\n",
       "</style>\n",
       "<table border=\"1\" class=\"dataframe\">\n",
       "  <thead>\n",
       "    <tr style=\"text-align: right;\">\n",
       "      <th></th>\n",
       "      <th>Accept</th>\n",
       "      <th>Host</th>\n",
       "      <th>User-Agent</th>\n",
       "      <th>description</th>\n",
       "      <th>event_type</th>\n",
       "      <th>timestamp</th>\n",
       "    </tr>\n",
       "  </thead>\n",
       "  <tbody>\n",
       "    <tr>\n",
       "      <th>17</th>\n",
       "      <td>*/*</td>\n",
       "      <td>user4.isvc.com</td>\n",
       "      <td>ApacheBench/2.3</td>\n",
       "      <td>hard_war</td>\n",
       "      <td>start_war</td>\n",
       "      <td>2021-12-13 01:00:36.191</td>\n",
       "    </tr>\n",
       "    <tr>\n",
       "      <th>18</th>\n",
       "      <td>*/*</td>\n",
       "      <td>user5.berkeley.com</td>\n",
       "      <td>ApacheBench/2.3</td>\n",
       "      <td>hard_war</td>\n",
       "      <td>start_war</td>\n",
       "      <td>2021-12-13 01:00:41.576</td>\n",
       "    </tr>\n",
       "    <tr>\n",
       "      <th>19</th>\n",
       "      <td>*/*</td>\n",
       "      <td>user5.berkeley.com</td>\n",
       "      <td>ApacheBench/2.3</td>\n",
       "      <td>hard_war</td>\n",
       "      <td>start_war</td>\n",
       "      <td>2021-12-13 01:00:41.585</td>\n",
       "    </tr>\n",
       "    <tr>\n",
       "      <th>20</th>\n",
       "      <td>*/*</td>\n",
       "      <td>user5.berkeley.com</td>\n",
       "      <td>ApacheBench/2.3</td>\n",
       "      <td>hard_war</td>\n",
       "      <td>start_war</td>\n",
       "      <td>2021-12-13 01:00:41.601</td>\n",
       "    </tr>\n",
       "    <tr>\n",
       "      <th>21</th>\n",
       "      <td>*/*</td>\n",
       "      <td>user5.berkeley.com</td>\n",
       "      <td>ApacheBench/2.3</td>\n",
       "      <td>hard_war</td>\n",
       "      <td>start_war</td>\n",
       "      <td>2021-12-13 01:00:41.622</td>\n",
       "    </tr>\n",
       "  </tbody>\n",
       "</table>\n",
       "</div>"
      ],
      "text/plain": [
       "   Accept                Host       User-Agent description event_type  \\\n",
       "17    */*      user4.isvc.com  ApacheBench/2.3    hard_war  start_war   \n",
       "18    */*  user5.berkeley.com  ApacheBench/2.3    hard_war  start_war   \n",
       "19    */*  user5.berkeley.com  ApacheBench/2.3    hard_war  start_war   \n",
       "20    */*  user5.berkeley.com  ApacheBench/2.3    hard_war  start_war   \n",
       "21    */*  user5.berkeley.com  ApacheBench/2.3    hard_war  start_war   \n",
       "\n",
       "                  timestamp  \n",
       "17  2021-12-13 01:00:36.191  \n",
       "18  2021-12-13 01:00:41.576  \n",
       "19  2021-12-13 01:00:41.585  \n",
       "20  2021-12-13 01:00:41.601  \n",
       "21  2021-12-13 01:00:41.622  "
      ]
     },
     "execution_count": 24,
     "metadata": {},
     "output_type": "execute_result"
    }
   ],
   "source": [
    "# prepare tables, save to pandas for further analysis:\n",
    "\n",
    "war.registerTempTable('war')\n",
    "war = spark.sql(\"select * from war\")\n",
    "war_df = war.toPandas()\n",
    "war_df.head()\n",
    "war_df.tail()"
   ]
  },
  {
   "cell_type": "code",
   "execution_count": 25,
   "metadata": {},
   "outputs": [
    {
     "data": {
      "text/html": [
       "<div>\n",
       "<style>\n",
       "    .dataframe thead tr:only-child th {\n",
       "        text-align: right;\n",
       "    }\n",
       "\n",
       "    .dataframe thead th {\n",
       "        text-align: left;\n",
       "    }\n",
       "\n",
       "    .dataframe tbody tr th {\n",
       "        vertical-align: top;\n",
       "    }\n",
       "</style>\n",
       "<table border=\"1\" class=\"dataframe\">\n",
       "  <thead>\n",
       "    <tr style=\"text-align: right;\">\n",
       "      <th></th>\n",
       "      <th>Accept</th>\n",
       "      <th>Host</th>\n",
       "      <th>User-Agent</th>\n",
       "      <th>description</th>\n",
       "      <th>event_type</th>\n",
       "      <th>timestamp</th>\n",
       "    </tr>\n",
       "  </thead>\n",
       "  <tbody>\n",
       "    <tr>\n",
       "      <th>0</th>\n",
       "      <td>*/*</td>\n",
       "      <td>user1.comcast.com</td>\n",
       "      <td>ApacheBench/2.3</td>\n",
       "      <td>hard_war</td>\n",
       "      <td>start_war</td>\n",
       "      <td>2021-12-13 01:00:20.528</td>\n",
       "    </tr>\n",
       "    <tr>\n",
       "      <th>1</th>\n",
       "      <td>*/*</td>\n",
       "      <td>user1.comcast.com</td>\n",
       "      <td>ApacheBench/2.3</td>\n",
       "      <td>hard_war</td>\n",
       "      <td>start_war</td>\n",
       "      <td>2021-12-13 01:00:20.538</td>\n",
       "    </tr>\n",
       "    <tr>\n",
       "      <th>2</th>\n",
       "      <td>*/*</td>\n",
       "      <td>user1.comcast.com</td>\n",
       "      <td>ApacheBench/2.3</td>\n",
       "      <td>hard_war</td>\n",
       "      <td>start_war</td>\n",
       "      <td>2021-12-13 01:00:20.545</td>\n",
       "    </tr>\n",
       "    <tr>\n",
       "      <th>3</th>\n",
       "      <td>*/*</td>\n",
       "      <td>user1.comcast.com</td>\n",
       "      <td>ApacheBench/2.3</td>\n",
       "      <td>hard_war</td>\n",
       "      <td>start_war</td>\n",
       "      <td>2021-12-13 01:00:20.556</td>\n",
       "    </tr>\n",
       "    <tr>\n",
       "      <th>4</th>\n",
       "      <td>*/*</td>\n",
       "      <td>user1.comcast.com</td>\n",
       "      <td>ApacheBench/2.3</td>\n",
       "      <td>hard_war</td>\n",
       "      <td>start_war</td>\n",
       "      <td>2021-12-13 01:00:20.562</td>\n",
       "    </tr>\n",
       "  </tbody>\n",
       "</table>\n",
       "</div>"
      ],
      "text/plain": [
       "  Accept               Host       User-Agent description event_type  \\\n",
       "0    */*  user1.comcast.com  ApacheBench/2.3    hard_war  start_war   \n",
       "1    */*  user1.comcast.com  ApacheBench/2.3    hard_war  start_war   \n",
       "2    */*  user1.comcast.com  ApacheBench/2.3    hard_war  start_war   \n",
       "3    */*  user1.comcast.com  ApacheBench/2.3    hard_war  start_war   \n",
       "4    */*  user1.comcast.com  ApacheBench/2.3    hard_war  start_war   \n",
       "\n",
       "                 timestamp  \n",
       "0  2021-12-13 01:00:20.528  \n",
       "1  2021-12-13 01:00:20.538  \n",
       "2  2021-12-13 01:00:20.545  \n",
       "3  2021-12-13 01:00:20.556  \n",
       "4  2021-12-13 01:00:20.562  "
      ]
     },
     "execution_count": 25,
     "metadata": {},
     "output_type": "execute_result"
    },
    {
     "data": {
      "text/html": [
       "<div>\n",
       "<style>\n",
       "    .dataframe thead tr:only-child th {\n",
       "        text-align: right;\n",
       "    }\n",
       "\n",
       "    .dataframe thead th {\n",
       "        text-align: left;\n",
       "    }\n",
       "\n",
       "    .dataframe tbody tr th {\n",
       "        vertical-align: top;\n",
       "    }\n",
       "</style>\n",
       "<table border=\"1\" class=\"dataframe\">\n",
       "  <thead>\n",
       "    <tr style=\"text-align: right;\">\n",
       "      <th></th>\n",
       "      <th>Accept</th>\n",
       "      <th>Host</th>\n",
       "      <th>User-Agent</th>\n",
       "      <th>description</th>\n",
       "      <th>event_type</th>\n",
       "      <th>timestamp</th>\n",
       "    </tr>\n",
       "  </thead>\n",
       "  <tbody>\n",
       "    <tr>\n",
       "      <th>17</th>\n",
       "      <td>*/*</td>\n",
       "      <td>user4.isvc.com</td>\n",
       "      <td>ApacheBench/2.3</td>\n",
       "      <td>hard_war</td>\n",
       "      <td>start_war</td>\n",
       "      <td>2021-12-13 01:00:36.191</td>\n",
       "    </tr>\n",
       "    <tr>\n",
       "      <th>18</th>\n",
       "      <td>*/*</td>\n",
       "      <td>user5.berkeley.com</td>\n",
       "      <td>ApacheBench/2.3</td>\n",
       "      <td>hard_war</td>\n",
       "      <td>start_war</td>\n",
       "      <td>2021-12-13 01:00:41.576</td>\n",
       "    </tr>\n",
       "    <tr>\n",
       "      <th>19</th>\n",
       "      <td>*/*</td>\n",
       "      <td>user5.berkeley.com</td>\n",
       "      <td>ApacheBench/2.3</td>\n",
       "      <td>hard_war</td>\n",
       "      <td>start_war</td>\n",
       "      <td>2021-12-13 01:00:41.585</td>\n",
       "    </tr>\n",
       "    <tr>\n",
       "      <th>20</th>\n",
       "      <td>*/*</td>\n",
       "      <td>user5.berkeley.com</td>\n",
       "      <td>ApacheBench/2.3</td>\n",
       "      <td>hard_war</td>\n",
       "      <td>start_war</td>\n",
       "      <td>2021-12-13 01:00:41.601</td>\n",
       "    </tr>\n",
       "    <tr>\n",
       "      <th>21</th>\n",
       "      <td>*/*</td>\n",
       "      <td>user5.berkeley.com</td>\n",
       "      <td>ApacheBench/2.3</td>\n",
       "      <td>hard_war</td>\n",
       "      <td>start_war</td>\n",
       "      <td>2021-12-13 01:00:41.622</td>\n",
       "    </tr>\n",
       "  </tbody>\n",
       "</table>\n",
       "</div>"
      ],
      "text/plain": [
       "   Accept                Host       User-Agent description event_type  \\\n",
       "17    */*      user4.isvc.com  ApacheBench/2.3    hard_war  start_war   \n",
       "18    */*  user5.berkeley.com  ApacheBench/2.3    hard_war  start_war   \n",
       "19    */*  user5.berkeley.com  ApacheBench/2.3    hard_war  start_war   \n",
       "20    */*  user5.berkeley.com  ApacheBench/2.3    hard_war  start_war   \n",
       "21    */*  user5.berkeley.com  ApacheBench/2.3    hard_war  start_war   \n",
       "\n",
       "                  timestamp  \n",
       "17  2021-12-13 01:00:36.191  \n",
       "18  2021-12-13 01:00:41.576  \n",
       "19  2021-12-13 01:00:41.585  \n",
       "20  2021-12-13 01:00:41.601  \n",
       "21  2021-12-13 01:00:41.622  "
      ]
     },
     "execution_count": 25,
     "metadata": {},
     "output_type": "execute_result"
    }
   ],
   "source": [
    "# prepare tables, save to pandas for further analysis:\n",
    "\n",
    "purchase.registerTempTable('purchase')\n",
    "purchase = spark.sql(\"select * from purchase\")\n",
    "purchase_df = purchase.toPandas()\n",
    "purchase_df.head()\n",
    "purchase_df.tail()"
   ]
  },
  {
   "cell_type": "code",
   "execution_count": 26,
   "metadata": {},
   "outputs": [
    {
     "data": {
      "text/html": [
       "<div>\n",
       "<style>\n",
       "    .dataframe thead tr:only-child th {\n",
       "        text-align: right;\n",
       "    }\n",
       "\n",
       "    .dataframe thead th {\n",
       "        text-align: left;\n",
       "    }\n",
       "\n",
       "    .dataframe tbody tr th {\n",
       "        vertical-align: top;\n",
       "    }\n",
       "</style>\n",
       "<table border=\"1\" class=\"dataframe\">\n",
       "  <thead>\n",
       "    <tr style=\"text-align: right;\">\n",
       "      <th></th>\n",
       "      <th>Accept</th>\n",
       "      <th>Host</th>\n",
       "      <th>User-Agent</th>\n",
       "      <th>description</th>\n",
       "      <th>event_type</th>\n",
       "      <th>timestamp</th>\n",
       "    </tr>\n",
       "  </thead>\n",
       "  <tbody>\n",
       "    <tr>\n",
       "      <th>count</th>\n",
       "      <td>22</td>\n",
       "      <td>22</td>\n",
       "      <td>22</td>\n",
       "      <td>22</td>\n",
       "      <td>22</td>\n",
       "      <td>22</td>\n",
       "    </tr>\n",
       "    <tr>\n",
       "      <th>unique</th>\n",
       "      <td>1</td>\n",
       "      <td>5</td>\n",
       "      <td>1</td>\n",
       "      <td>1</td>\n",
       "      <td>1</td>\n",
       "      <td>22</td>\n",
       "    </tr>\n",
       "    <tr>\n",
       "      <th>top</th>\n",
       "      <td>*/*</td>\n",
       "      <td>user2.att.com</td>\n",
       "      <td>ApacheBench/2.3</td>\n",
       "      <td>hard_war</td>\n",
       "      <td>start_war</td>\n",
       "      <td>2021-12-13 01:00:25.565</td>\n",
       "    </tr>\n",
       "    <tr>\n",
       "      <th>freq</th>\n",
       "      <td>22</td>\n",
       "      <td>6</td>\n",
       "      <td>22</td>\n",
       "      <td>22</td>\n",
       "      <td>22</td>\n",
       "      <td>1</td>\n",
       "    </tr>\n",
       "  </tbody>\n",
       "</table>\n",
       "</div>"
      ],
      "text/plain": [
       "       Accept           Host       User-Agent description event_type  \\\n",
       "count      22             22               22          22         22   \n",
       "unique      1              5                1           1          1   \n",
       "top       */*  user2.att.com  ApacheBench/2.3    hard_war  start_war   \n",
       "freq       22              6               22          22         22   \n",
       "\n",
       "                      timestamp  \n",
       "count                        22  \n",
       "unique                       22  \n",
       "top     2021-12-13 01:00:25.565  \n",
       "freq                          1  "
      ]
     },
     "execution_count": 26,
     "metadata": {},
     "output_type": "execute_result"
    },
    {
     "data": {
      "text/html": [
       "<div>\n",
       "<style>\n",
       "    .dataframe thead tr:only-child th {\n",
       "        text-align: right;\n",
       "    }\n",
       "\n",
       "    .dataframe thead th {\n",
       "        text-align: left;\n",
       "    }\n",
       "\n",
       "    .dataframe tbody tr th {\n",
       "        vertical-align: top;\n",
       "    }\n",
       "</style>\n",
       "<table border=\"1\" class=\"dataframe\">\n",
       "  <thead>\n",
       "    <tr style=\"text-align: right;\">\n",
       "      <th></th>\n",
       "      <th>Accept</th>\n",
       "      <th>Host</th>\n",
       "      <th>User-Agent</th>\n",
       "      <th>description</th>\n",
       "      <th>event_type</th>\n",
       "      <th>timestamp</th>\n",
       "    </tr>\n",
       "  </thead>\n",
       "  <tbody>\n",
       "    <tr>\n",
       "      <th>count</th>\n",
       "      <td>22</td>\n",
       "      <td>22</td>\n",
       "      <td>22</td>\n",
       "      <td>22</td>\n",
       "      <td>22</td>\n",
       "      <td>22</td>\n",
       "    </tr>\n",
       "    <tr>\n",
       "      <th>unique</th>\n",
       "      <td>1</td>\n",
       "      <td>5</td>\n",
       "      <td>1</td>\n",
       "      <td>1</td>\n",
       "      <td>1</td>\n",
       "      <td>22</td>\n",
       "    </tr>\n",
       "    <tr>\n",
       "      <th>top</th>\n",
       "      <td>*/*</td>\n",
       "      <td>user2.att.com</td>\n",
       "      <td>ApacheBench/2.3</td>\n",
       "      <td>hard_war</td>\n",
       "      <td>start_war</td>\n",
       "      <td>2021-12-13 01:00:25.565</td>\n",
       "    </tr>\n",
       "    <tr>\n",
       "      <th>freq</th>\n",
       "      <td>22</td>\n",
       "      <td>6</td>\n",
       "      <td>22</td>\n",
       "      <td>22</td>\n",
       "      <td>22</td>\n",
       "      <td>1</td>\n",
       "    </tr>\n",
       "  </tbody>\n",
       "</table>\n",
       "</div>"
      ],
      "text/plain": [
       "       Accept           Host       User-Agent description event_type  \\\n",
       "count      22             22               22          22         22   \n",
       "unique      1              5                1           1          1   \n",
       "top       */*  user2.att.com  ApacheBench/2.3    hard_war  start_war   \n",
       "freq       22              6               22          22         22   \n",
       "\n",
       "                      timestamp  \n",
       "count                        22  \n",
       "unique                       22  \n",
       "top     2021-12-13 01:00:25.565  \n",
       "freq                          1  "
      ]
     },
     "execution_count": 26,
     "metadata": {},
     "output_type": "execute_result"
    }
   ],
   "source": [
    "#dataframe and Sanity check \n",
    "\n",
    "war_df.describe()\n",
    "purchase_df.describe()"
   ]
  },
  {
   "cell_type": "code",
   "execution_count": 27,
   "metadata": {},
   "outputs": [
    {
     "data": {
      "text/plain": [
       "Accept  Host                User-Agent       description  event_type  timestamp              \n",
       "*/*     user1.comcast.com   ApacheBench/2.3  hard_war     start_war   2021-12-13 01:00:20.528    1\n",
       "                                                                      2021-12-13 01:00:20.538    1\n",
       "                                                                      2021-12-13 01:00:20.545    1\n",
       "                                                                      2021-12-13 01:00:20.556    1\n",
       "                                                                      2021-12-13 01:00:20.562    1\n",
       "        user2.att.com       ApacheBench/2.3  hard_war     start_war   2021-12-13 01:00:25.531    1\n",
       "                                                                      2021-12-13 01:00:25.545    1\n",
       "                                                                      2021-12-13 01:00:25.556    1\n",
       "                                                                      2021-12-13 01:00:25.565    1\n",
       "                                                                      2021-12-13 01:00:25.572    1\n",
       "                                                                      2021-12-13 01:00:25.578    1\n",
       "        user3.google.com    ApacheBench/2.3  hard_war     start_war   2021-12-13 01:00:30.464    1\n",
       "                                                                      2021-12-13 01:00:30.478    1\n",
       "                                                                      2021-12-13 01:00:30.485    1\n",
       "                                                                      2021-12-13 01:00:30.494    1\n",
       "        user4.isvc.com      ApacheBench/2.3  hard_war     start_war   2021-12-13 01:00:36.175    1\n",
       "                                                                      2021-12-13 01:00:36.185    1\n",
       "                                                                      2021-12-13 01:00:36.191    1\n",
       "        user5.berkeley.com  ApacheBench/2.3  hard_war     start_war   2021-12-13 01:00:41.576    1\n",
       "                                                                      2021-12-13 01:00:41.585    1\n",
       "                                                                      2021-12-13 01:00:41.601    1\n",
       "                                                                      2021-12-13 01:00:41.622    1\n",
       "dtype: int64"
      ]
     },
     "execution_count": 27,
     "metadata": {},
     "output_type": "execute_result"
    }
   ],
   "source": [
    "war_df.groupby(war_df.columns.tolist(),as_index=False).size()"
   ]
  },
  {
   "cell_type": "markdown",
   "metadata": {
    "jupyter": {
     "outputs_hidden": true
    }
   },
   "source": [
    "#### Purchase events (both swords and gear)"
   ]
  },
  {
   "cell_type": "markdown",
   "metadata": {},
   "source": [
    "#### Purchase Events"
   ]
  },
  {
   "cell_type": "code",
   "execution_count": 28,
   "metadata": {
    "collapsed": true,
    "jupyter": {
     "outputs_hidden": true
    }
   },
   "outputs": [],
   "source": [
    "@udf('boolean')\n",
    "def is_purchase(event_as_json):\n",
    "    event = json.loads(event_as_json)\n",
    "    if event['event_type'] == 'purchase_sword':\n",
    "        return True\n",
    "    elif event[\"event_type\"] == \"purchase_gear\":\n",
    "        return True\n",
    "    return False"
   ]
  },
  {
   "cell_type": "code",
   "execution_count": 29,
   "metadata": {
    "jupyter": {
     "outputs_hidden": true
    },
    "scrolled": true
   },
   "outputs": [
    {
     "name": "stdout",
     "output_type": "stream",
     "text": [
      "root\n",
      " |-- Accept: string (nullable = true)\n",
      " |-- Host: string (nullable = true)\n",
      " |-- User-Agent: string (nullable = true)\n",
      " |-- description: string (nullable = true)\n",
      " |-- event_type: string (nullable = true)\n",
      " |-- price: double (nullable = true)\n",
      " |-- timestamp: string (nullable = true)\n",
      "\n",
      "+------+-----------------+---------------+----------------+--------------+-----+--------------------+\n",
      "|Accept|             Host|     User-Agent|     description|    event_type|price|           timestamp|\n",
      "+------+-----------------+---------------+----------------+--------------+-----+--------------------+\n",
      "|   */*|user1.comcast.com|ApacheBench/2.3|lightsaber_sword|purchase_sword|150.0|2021-12-13 01:00:...|\n",
      "|   */*|user1.comcast.com|ApacheBench/2.3|    buster_sword|purchase_sword|200.0|2021-12-13 01:00:...|\n",
      "|   */*|user1.comcast.com|ApacheBench/2.3|    buster_sword|purchase_sword|200.0|2021-12-13 01:00:...|\n",
      "|   */*|user1.comcast.com|ApacheBench/2.3|   diamond_sword|purchase_sword|300.0|2021-12-13 01:00:...|\n",
      "|   */*|user1.comcast.com|ApacheBench/2.3|   diamond_sword|purchase_sword|300.0|2021-12-13 01:00:...|\n",
      "+------+-----------------+---------------+----------------+--------------+-----+--------------------+\n",
      "only showing top 5 rows\n",
      "\n"
     ]
    }
   ],
   "source": [
    "purchase_events = raw_events.\\\n",
    "                  select(raw_events.value.cast('string').alias('raw'), \n",
    "                         raw_events.timestamp.cast('string')).\\\n",
    "                  filter(is_purchase('raw'))\n",
    "\n",
    "extracted_purchase_events = purchase_events.\\\n",
    "                            rdd.map(lambda r: Row(timestamp=r.timestamp, **json.loads(r.raw))).\\\n",
    "                            toDF()\n",
    "extracted_purchase_events.printSchema()\n",
    "extracted_purchase_events.show(5)\n",
    "# Read and show purchase events.\n",
    "# extracted_purchase_events.write.mode('overwrite').parquet('/tmp/purchase/')\n",
    "# purchase = spark.read.parquet('/tmp/purchase/*')\n",
    "# purchase.show() "
   ]
  },
  {
   "cell_type": "markdown",
   "metadata": {},
   "source": [
    "#### Preliminary Analysis"
   ]
  },
  {
   "cell_type": "code",
   "execution_count": 30,
   "metadata": {
    "jupyter": {
     "outputs_hidden": true
    }
   },
   "outputs": [
    {
     "name": "stdout",
     "output_type": "stream",
     "text": [
      "+----------------+-----+\n",
      "|     description|count|\n",
      "+----------------+-----+\n",
      "|    buster_sword|   12|\n",
      "|   diamond_sword|   12|\n",
      "|          shield|   21|\n",
      "|           spear|   15|\n",
      "|lightsaber_sword|   14|\n",
      "|          helmet|   14|\n",
      "+----------------+-----+\n",
      "\n"
     ]
    }
   ],
   "source": [
    "extracted_purchase_events.groupBy('description').count().show()\n",
    "# ax = pd.DataFrame(df_num_swords).plot.bar(x='description', y='count', rot=0)"
   ]
  },
  {
   "cell_type": "code",
   "execution_count": 31,
   "metadata": {
    "jupyter": {
     "outputs_hidden": true
    }
   },
   "outputs": [
    {
     "name": "stdout",
     "output_type": "stream",
     "text": [
      "+------------------+----------+\n",
      "|              Host|sum(price)|\n",
      "+------------------+----------+\n",
      "|     user2.att.com|    2770.0|\n",
      "|  user3.google.com|    2805.0|\n",
      "| user1.comcast.com|    2165.0|\n",
      "|    user4.isvc.com|    3665.0|\n",
      "|user5.berkeley.com|    3625.0|\n",
      "+------------------+----------+\n",
      "\n"
     ]
    }
   ],
   "source": [
    "extracted_purchase_events.groupBy('Host').sum(\"price\").show()"
   ]
  },
  {
   "cell_type": "code",
   "execution_count": 32,
   "metadata": {
    "jupyter": {
     "outputs_hidden": true
    }
   },
   "outputs": [
    {
     "name": "stdout",
     "output_type": "stream",
     "text": [
      "+--------------+------------------+-----+\n",
      "|    event_type|              Host|count|\n",
      "+--------------+------------------+-----+\n",
      "| purchase_gear|  user3.google.com|   10|\n",
      "| purchase_gear|    user4.isvc.com|   13|\n",
      "| purchase_gear| user1.comcast.com|    5|\n",
      "| purchase_gear|     user2.att.com|   12|\n",
      "|purchase_sword|  user3.google.com|    7|\n",
      "|purchase_sword|    user4.isvc.com|    9|\n",
      "|purchase_sword| user1.comcast.com|    6|\n",
      "| purchase_gear|user5.berkeley.com|   10|\n",
      "|purchase_sword|     user2.att.com|    6|\n",
      "|purchase_sword|user5.berkeley.com|   10|\n",
      "+--------------+------------------+-----+\n",
      "\n"
     ]
    }
   ],
   "source": [
    "extracted_purchase_events.groupBy('event_type', 'Host').count().show()"
   ]
  },
  {
   "cell_type": "markdown",
   "metadata": {
    "jupyter": {
     "outputs_hidden": true
    }
   },
   "source": [
    "## PART 5:  User Interacts with Mobile App"
   ]
  },
  {
   "cell_type": "markdown",
   "metadata": {
    "jupyter": {
     "outputs_hidden": true
    }
   },
   "source": [
    "#### 5.1 User interacts with mobile app\n",
    "\n",
    "* mobile app makes API calls to web services\n",
    "* API server handles requests:\n",
    "* handles actual business requirements (e.g., process purchase)\n",
    "* logs events to kafka\n",
    "* spark then:\n",
    "* pulls events from kafka\n",
    "* filters/flattens/transforms events\n",
    "* writes them to storage\n",
    "* presto then queries those events \n",
    "\n"
   ]
  },
  {
   "cell_type": "code",
   "execution_count": 33,
   "metadata": {
    "collapsed": true,
    "jupyter": {
     "outputs_hidden": true
    }
   },
   "outputs": [],
   "source": [
    "@udf('boolean')\n",
    "def is_purchase(event_as_json):\n",
    "    event = json.loads(event_as_json)\n",
    "    if event['event_type'] == 'purchase_sword':\n",
    "        return True\n",
    "    return False"
   ]
  },
  {
   "cell_type": "code",
   "execution_count": 34,
   "metadata": {
    "collapsed": true,
    "jupyter": {
     "outputs_hidden": true
    }
   },
   "outputs": [],
   "source": [
    "raw_events = spark \\\n",
    "    .read \\\n",
    "    .format(\"kafka\") \\\n",
    "    .option(\"kafka.bootstrap.servers\", \"kafka:29092\") \\\n",
    "    .option(\"subscribe\", \"events\") \\\n",
    "    .option(\"startingOffsets\", \"earliest\") \\\n",
    "    .option(\"endingOffsets\", \"latest\") \\\n",
    "    .load()"
   ]
  },
  {
   "cell_type": "code",
   "execution_count": 35,
   "metadata": {
    "collapsed": true,
    "jupyter": {
     "outputs_hidden": true
    }
   },
   "outputs": [],
   "source": [
    "purchase_events = raw_events \\\n",
    "        .select(raw_events.value.cast('string').alias('raw'),\n",
    "                raw_events.timestamp.cast('string')) \\\n",
    "        .filter(is_purchase('raw'))"
   ]
  },
  {
   "cell_type": "code",
   "execution_count": 36,
   "metadata": {
    "collapsed": true,
    "jupyter": {
     "outputs_hidden": true
    }
   },
   "outputs": [],
   "source": [
    "extracted_purchase_events = purchase_events \\\n",
    "        .rdd \\\n",
    "        .map(lambda r: Row(timestamp=r.timestamp, **json.loads(r.raw))) \\\n",
    "        .toDF()"
   ]
  },
  {
   "cell_type": "code",
   "execution_count": 37,
   "metadata": {},
   "outputs": [
    {
     "name": "stdout",
     "output_type": "stream",
     "text": [
      "root\n",
      " |-- Accept: string (nullable = true)\n",
      " |-- Host: string (nullable = true)\n",
      " |-- User-Agent: string (nullable = true)\n",
      " |-- description: string (nullable = true)\n",
      " |-- event_type: string (nullable = true)\n",
      " |-- price: double (nullable = true)\n",
      " |-- timestamp: string (nullable = true)\n",
      "\n"
     ]
    }
   ],
   "source": [
    "extracted_purchase_events.printSchema()"
   ]
  },
  {
   "cell_type": "code",
   "execution_count": 38,
   "metadata": {},
   "outputs": [
    {
     "name": "stdout",
     "output_type": "stream",
     "text": [
      "+------+-----------------+---------------+----------------+--------------+-----+--------------------+\n",
      "|Accept|             Host|     User-Agent|     description|    event_type|price|           timestamp|\n",
      "+------+-----------------+---------------+----------------+--------------+-----+--------------------+\n",
      "|   */*|user1.comcast.com|ApacheBench/2.3|lightsaber_sword|purchase_sword|150.0|2021-12-13 01:00:...|\n",
      "|   */*|user1.comcast.com|ApacheBench/2.3|    buster_sword|purchase_sword|200.0|2021-12-13 01:00:...|\n",
      "|   */*|user1.comcast.com|ApacheBench/2.3|    buster_sword|purchase_sword|200.0|2021-12-13 01:00:...|\n",
      "|   */*|user1.comcast.com|ApacheBench/2.3|   diamond_sword|purchase_sword|300.0|2021-12-13 01:00:...|\n",
      "|   */*|user1.comcast.com|ApacheBench/2.3|   diamond_sword|purchase_sword|300.0|2021-12-13 01:00:...|\n",
      "+------+-----------------+---------------+----------------+--------------+-----+--------------------+\n",
      "only showing top 5 rows\n",
      "\n"
     ]
    }
   ],
   "source": [
    "extracted_purchase_events.show(5)"
   ]
  },
  {
   "cell_type": "code",
   "execution_count": 39,
   "metadata": {
    "collapsed": true,
    "jupyter": {
     "outputs_hidden": true
    }
   },
   "outputs": [],
   "source": [
    "extracted_purchase_events \\\n",
    "        .write \\\n",
    "        .mode('overwrite') \\\n",
    "        .parquet('/tmp/purchases')"
   ]
  },
  {
   "cell_type": "code",
   "execution_count": 40,
   "metadata": {
    "collapsed": true,
    "jupyter": {
     "outputs_hidden": true
    }
   },
   "outputs": [],
   "source": [
    "purchases = spark.read.parquet('/tmp/purchases')\n",
    "returns = spark.read.parquet('/tmp/return')"
   ]
  },
  {
   "cell_type": "code",
   "execution_count": 41,
   "metadata": {},
   "outputs": [
    {
     "name": "stdout",
     "output_type": "stream",
     "text": [
      "+------+-----------------+---------------+----------------+------------+------+--------------------+\n",
      "|Accept|             Host|     User-Agent|     description|  event_type| price|           timestamp|\n",
      "+------+-----------------+---------------+----------------+------------+------+--------------------+\n",
      "|   */*|user1.comcast.com|ApacheBench/2.3|   diamond_sword|return_sword|-300.0|2021-12-13 01:00:...|\n",
      "|   */*|user1.comcast.com|ApacheBench/2.3|   diamond_sword|return_sword|-300.0|2021-12-13 01:00:...|\n",
      "|   */*|user1.comcast.com|ApacheBench/2.3|           spear| return_gear|-140.0|2021-12-13 01:00:...|\n",
      "|   */*|    user2.att.com|ApacheBench/2.3|lightsaber_sword|return_sword|-150.0|2021-12-13 01:00:...|\n",
      "|   */*|    user2.att.com|ApacheBench/2.3|lightsaber_sword|return_sword|-150.0|2021-12-13 01:00:...|\n",
      "+------+-----------------+---------------+----------------+------------+------+--------------------+\n",
      "only showing top 5 rows\n",
      "\n"
     ]
    }
   ],
   "source": [
    "returns.show(5)"
   ]
  },
  {
   "cell_type": "code",
   "execution_count": 42,
   "metadata": {
    "scrolled": true
   },
   "outputs": [
    {
     "name": "stdout",
     "output_type": "stream",
     "text": [
      "+------+-----------------+---------------+----------------+--------------+-----+--------------------+\n",
      "|Accept|             Host|     User-Agent|     description|    event_type|price|           timestamp|\n",
      "+------+-----------------+---------------+----------------+--------------+-----+--------------------+\n",
      "|   */*|user1.comcast.com|ApacheBench/2.3|lightsaber_sword|purchase_sword|150.0|2021-12-13 01:00:...|\n",
      "|   */*|user1.comcast.com|ApacheBench/2.3|    buster_sword|purchase_sword|200.0|2021-12-13 01:00:...|\n",
      "|   */*|user1.comcast.com|ApacheBench/2.3|    buster_sword|purchase_sword|200.0|2021-12-13 01:00:...|\n",
      "|   */*|user1.comcast.com|ApacheBench/2.3|   diamond_sword|purchase_sword|300.0|2021-12-13 01:00:...|\n",
      "|   */*|user1.comcast.com|ApacheBench/2.3|   diamond_sword|purchase_sword|300.0|2021-12-13 01:00:...|\n",
      "+------+-----------------+---------------+----------------+--------------+-----+--------------------+\n",
      "only showing top 5 rows\n",
      "\n"
     ]
    }
   ],
   "source": [
    "purchases.show(5)"
   ]
  },
  {
   "cell_type": "code",
   "execution_count": 43,
   "metadata": {
    "collapsed": true,
    "jupyter": {
     "outputs_hidden": true
    }
   },
   "outputs": [],
   "source": [
    "purchases.registerTempTable('purchases')\n",
    "returns.registerTempTable('returns')"
   ]
  },
  {
   "cell_type": "code",
   "execution_count": 44,
   "metadata": {
    "collapsed": true,
    "jupyter": {
     "outputs_hidden": true
    }
   },
   "outputs": [],
   "source": [
    "purchases_by_example2 = spark.sql(\"select * from purchases where Host = 'user1.comcast.com'\")"
   ]
  },
  {
   "cell_type": "code",
   "execution_count": 45,
   "metadata": {
    "jupyter": {
     "outputs_hidden": true
    }
   },
   "outputs": [
    {
     "name": "stdout",
     "output_type": "stream",
     "text": [
      "+------+-----------------+---------------+----------------+--------------+-----+--------------------+\n",
      "|Accept|             Host|     User-Agent|     description|    event_type|price|           timestamp|\n",
      "+------+-----------------+---------------+----------------+--------------+-----+--------------------+\n",
      "|   */*|user1.comcast.com|ApacheBench/2.3|lightsaber_sword|purchase_sword|150.0|2021-12-13 01:00:...|\n",
      "|   */*|user1.comcast.com|ApacheBench/2.3|    buster_sword|purchase_sword|200.0|2021-12-13 01:00:...|\n",
      "|   */*|user1.comcast.com|ApacheBench/2.3|    buster_sword|purchase_sword|200.0|2021-12-13 01:00:...|\n",
      "|   */*|user1.comcast.com|ApacheBench/2.3|   diamond_sword|purchase_sword|300.0|2021-12-13 01:00:...|\n",
      "|   */*|user1.comcast.com|ApacheBench/2.3|   diamond_sword|purchase_sword|300.0|2021-12-13 01:00:...|\n",
      "|   */*|user1.comcast.com|ApacheBench/2.3|   diamond_sword|purchase_sword|300.0|2021-12-13 01:00:...|\n",
      "+------+-----------------+---------------+----------------+--------------+-----+--------------------+\n",
      "\n"
     ]
    }
   ],
   "source": [
    "purchases_by_example2.show()"
   ]
  },
  {
   "cell_type": "code",
   "execution_count": 46,
   "metadata": {
    "collapsed": true,
    "jupyter": {
     "outputs_hidden": true
    }
   },
   "outputs": [],
   "source": [
    "df = purchases_by_example2.toPandas()"
   ]
  },
  {
   "cell_type": "code",
   "execution_count": 47,
   "metadata": {
    "jupyter": {
     "outputs_hidden": true
    },
    "scrolled": true
   },
   "outputs": [
    {
     "data": {
      "text/html": [
       "<div>\n",
       "<style>\n",
       "    .dataframe thead tr:only-child th {\n",
       "        text-align: right;\n",
       "    }\n",
       "\n",
       "    .dataframe thead th {\n",
       "        text-align: left;\n",
       "    }\n",
       "\n",
       "    .dataframe tbody tr th {\n",
       "        vertical-align: top;\n",
       "    }\n",
       "</style>\n",
       "<table border=\"1\" class=\"dataframe\">\n",
       "  <thead>\n",
       "    <tr style=\"text-align: right;\">\n",
       "      <th></th>\n",
       "      <th>Accept</th>\n",
       "      <th>Host</th>\n",
       "      <th>User-Agent</th>\n",
       "      <th>description</th>\n",
       "      <th>event_type</th>\n",
       "      <th>price</th>\n",
       "      <th>timestamp</th>\n",
       "    </tr>\n",
       "  </thead>\n",
       "  <tbody>\n",
       "    <tr>\n",
       "      <th>0</th>\n",
       "      <td>*/*</td>\n",
       "      <td>user1.comcast.com</td>\n",
       "      <td>ApacheBench/2.3</td>\n",
       "      <td>lightsaber_sword</td>\n",
       "      <td>purchase_sword</td>\n",
       "      <td>150.0</td>\n",
       "      <td>2021-12-13 01:00:16.093</td>\n",
       "    </tr>\n",
       "    <tr>\n",
       "      <th>1</th>\n",
       "      <td>*/*</td>\n",
       "      <td>user1.comcast.com</td>\n",
       "      <td>ApacheBench/2.3</td>\n",
       "      <td>buster_sword</td>\n",
       "      <td>purchase_sword</td>\n",
       "      <td>200.0</td>\n",
       "      <td>2021-12-13 01:00:17.129</td>\n",
       "    </tr>\n",
       "    <tr>\n",
       "      <th>2</th>\n",
       "      <td>*/*</td>\n",
       "      <td>user1.comcast.com</td>\n",
       "      <td>ApacheBench/2.3</td>\n",
       "      <td>buster_sword</td>\n",
       "      <td>purchase_sword</td>\n",
       "      <td>200.0</td>\n",
       "      <td>2021-12-13 01:00:17.139</td>\n",
       "    </tr>\n",
       "    <tr>\n",
       "      <th>3</th>\n",
       "      <td>*/*</td>\n",
       "      <td>user1.comcast.com</td>\n",
       "      <td>ApacheBench/2.3</td>\n",
       "      <td>diamond_sword</td>\n",
       "      <td>purchase_sword</td>\n",
       "      <td>300.0</td>\n",
       "      <td>2021-12-13 01:00:17.961</td>\n",
       "    </tr>\n",
       "    <tr>\n",
       "      <th>4</th>\n",
       "      <td>*/*</td>\n",
       "      <td>user1.comcast.com</td>\n",
       "      <td>ApacheBench/2.3</td>\n",
       "      <td>diamond_sword</td>\n",
       "      <td>purchase_sword</td>\n",
       "      <td>300.0</td>\n",
       "      <td>2021-12-13 01:00:17.975</td>\n",
       "    </tr>\n",
       "  </tbody>\n",
       "</table>\n",
       "</div>"
      ],
      "text/plain": [
       "  Accept               Host       User-Agent       description  \\\n",
       "0    */*  user1.comcast.com  ApacheBench/2.3  lightsaber_sword   \n",
       "1    */*  user1.comcast.com  ApacheBench/2.3      buster_sword   \n",
       "2    */*  user1.comcast.com  ApacheBench/2.3      buster_sword   \n",
       "3    */*  user1.comcast.com  ApacheBench/2.3     diamond_sword   \n",
       "4    */*  user1.comcast.com  ApacheBench/2.3     diamond_sword   \n",
       "\n",
       "       event_type  price                timestamp  \n",
       "0  purchase_sword  150.0  2021-12-13 01:00:16.093  \n",
       "1  purchase_sword  200.0  2021-12-13 01:00:17.129  \n",
       "2  purchase_sword  200.0  2021-12-13 01:00:17.139  \n",
       "3  purchase_sword  300.0  2021-12-13 01:00:17.961  \n",
       "4  purchase_sword  300.0  2021-12-13 01:00:17.975  "
      ]
     },
     "execution_count": 47,
     "metadata": {},
     "output_type": "execute_result"
    }
   ],
   "source": [
    "df.head()"
   ]
  },
  {
   "cell_type": "markdown",
   "metadata": {},
   "source": [
    "##### 5.1.1 A quick check how many events were connected from each Host."
   ]
  },
  {
   "cell_type": "code",
   "execution_count": 48,
   "metadata": {
    "collapsed": true,
    "jupyter": {
     "outputs_hidden": true
    }
   },
   "outputs": [],
   "source": [
    "Host_count = spark.sql(\"SELECT Host, COUNT(Host) as Host_count FROM purchases GROUP BY Host ORDER BY count() desc\")\n",
    "#att_count = spark.sql(\"SELECT COUNT(Host) as ATT FROM purchases WHERE Host = 'user2.att.com'\")"
   ]
  },
  {
   "cell_type": "code",
   "execution_count": 49,
   "metadata": {
    "jupyter": {
     "outputs_hidden": true
    }
   },
   "outputs": [
    {
     "name": "stdout",
     "output_type": "stream",
     "text": [
      "+------------------+----------+\n",
      "|              Host|Host_count|\n",
      "+------------------+----------+\n",
      "|     user2.att.com|         6|\n",
      "|  user3.google.com|         7|\n",
      "| user1.comcast.com|         6|\n",
      "|    user4.isvc.com|         9|\n",
      "|user5.berkeley.com|        10|\n",
      "+------------------+----------+\n",
      "\n"
     ]
    }
   ],
   "source": [
    "Host_count.show()"
   ]
  },
  {
   "cell_type": "markdown",
   "metadata": {},
   "source": [
    "##### 5.1.2 What are the start and stop time for return events ? "
   ]
  },
  {
   "cell_type": "code",
   "execution_count": 50,
   "metadata": {
    "collapsed": true,
    "jupyter": {
     "outputs_hidden": true
    }
   },
   "outputs": [],
   "source": [
    "time_stamp_table = spark.sql(\"SELECT MIN(timestamp), MAX(timestamp) FROM returns\")"
   ]
  },
  {
   "cell_type": "code",
   "execution_count": 51,
   "metadata": {},
   "outputs": [
    {
     "name": "stdout",
     "output_type": "stream",
     "text": [
      "+--------------------+--------------------+\n",
      "|      min(timestamp)|      max(timestamp)|\n",
      "+--------------------+--------------------+\n",
      "|2021-12-13 01:00:...|2021-12-13 01:00:...|\n",
      "+--------------------+--------------------+\n",
      "\n"
     ]
    }
   ],
   "source": [
    "time_stamp_table.show()"
   ]
  },
  {
   "cell_type": "markdown",
   "metadata": {},
   "source": [
    "\n",
    "####  5.2 Stream Apache Bench\n",
    "\n",
    "Issue infinite loop to run Apache Bench: \n",
    "```\n",
    "docker-compose exec cloudera hadoop fs -ls /tmp/sword_purchases\n",
    "do docker-compose exec mids ab -n 5 -H \"Host: user5.berkeley.com\" http://localhost:5000/purchase_a_lightsaber_sword\n",
    "```\n",
    "Command to see if infinite loop wrote to HDFS  \n",
    "```\n",
    "docker-compose exec cloudera hadoop fs -ls /tmp/sword_purchases\n",
    "```"
   ]
  },
  {
   "cell_type": "code",
   "execution_count": 52,
   "metadata": {
    "collapsed": true,
    "jupyter": {
     "outputs_hidden": true
    }
   },
   "outputs": [],
   "source": [
    "def purchase_sword_event_schema():\n",
    "    \"\"\"\n",
    "    root\n",
    "    |-- Accept: string (nullable = true)\n",
    "    |-- Host: string (nullable = true)\n",
    "    |-- User-Agent: string (nullable = true)\n",
    "    |-- event_type: string (nullable = true)\n",
    "    |-- timestamp: string (nullable = true)\n",
    "    \"\"\"\n",
    "    return StructType([\n",
    "        StructField(\"Accept\", StringType(), True),\n",
    "        StructField(\"Host\", StringType(), True),\n",
    "        StructField(\"User-Agent\", StringType(), True),\n",
    "        StructField(\"event_type\", StringType(), True),\n",
    "    ])"
   ]
  },
  {
   "cell_type": "code",
   "execution_count": 53,
   "metadata": {
    "collapsed": true,
    "jupyter": {
     "outputs_hidden": true
    }
   },
   "outputs": [],
   "source": [
    "@udf('boolean')\n",
    "def is_sword_purchase(event_as_json):\n",
    "    \"\"\"udf for filtering events\n",
    "    \"\"\"\n",
    "    event = json.loads(event_as_json)\n",
    "    if event['event_type'] == 'purchase_sword':\n",
    "        return True\n",
    "    return False"
   ]
  },
  {
   "cell_type": "code",
   "execution_count": 54,
   "metadata": {
    "collapsed": true,
    "jupyter": {
     "outputs_hidden": true
    }
   },
   "outputs": [],
   "source": [
    "raw_events = spark \\\n",
    "        .readStream \\\n",
    "        .format(\"kafka\") \\\n",
    "        .option(\"kafka.bootstrap.servers\", \"kafka:29092\") \\\n",
    "        .option(\"subscribe\", \"events\") \\\n",
    "        .load()"
   ]
  },
  {
   "cell_type": "code",
   "execution_count": 55,
   "metadata": {
    "collapsed": true,
    "jupyter": {
     "outputs_hidden": true
    }
   },
   "outputs": [],
   "source": [
    "#raw_events.show()"
   ]
  },
  {
   "cell_type": "code",
   "execution_count": 56,
   "metadata": {
    "collapsed": true,
    "jupyter": {
     "outputs_hidden": true
    }
   },
   "outputs": [],
   "source": [
    "sword_purchases = raw_events \\\n",
    "        .filter(is_sword_purchase(raw_events.value.cast('string'))) \\\n",
    "        .select(raw_events.value.cast('string').alias('raw_event'),\n",
    "                raw_events.timestamp.cast('string'),\n",
    "                from_json(raw_events.value.cast('string'),\n",
    "                          purchase_sword_event_schema()).alias('json')) \\\n",
    "        .select('raw_event', 'timestamp', 'json.*')"
   ]
  },
  {
   "cell_type": "code",
   "execution_count": 57,
   "metadata": {},
   "outputs": [
    {
     "name": "stdout",
     "output_type": "stream",
     "text": [
      "DataFrame[raw_event: string, timestamp: string, Accept: string, Host: string, User-Agent: string, event_type: string]\n"
     ]
    }
   ],
   "source": [
    "print(sword_purchases)"
   ]
  },
  {
   "cell_type": "code",
   "execution_count": 58,
   "metadata": {
    "collapsed": true,
    "jupyter": {
     "outputs_hidden": true
    }
   },
   "outputs": [],
   "source": [
    "sink = sword_purchases \\\n",
    "        .writeStream \\\n",
    "        .format(\"parquet\") \\\n",
    "        .option(\"checkpointLocation\", \"/tmp/checkpoints_for_sword_purchases\") \\\n",
    "        .option(\"path\", \"/tmp/sword_purchases\") \\\n",
    "        .trigger(processingTime=\"10 seconds\") \\\n",
    "        .start()"
   ]
  },
  {
   "cell_type": "markdown",
   "metadata": {},
   "source": [
    "### 5.3 Hive  \n",
    " \n",
    "###### 5.3.1 Run Hive \n",
    "\n",
    "Run Hive: \n",
    "```\n",
    "docker-compose exec cloudera hive\n",
    "```\n",
    "\n",
    "To hold the output format, the output is pasted inside the cells below:"
   ]
  },
  {
   "cell_type": "code",
   "execution_count": 59,
   "metadata": {
    "collapsed": true,
    "jupyter": {
     "outputs_hidden": true
    }
   },
   "outputs": [],
   "source": [
    "# ~/w205/project-3-cynyzhu$ docker-compose exec cloudera hive\n",
    "# 2021-12-12 09:09:57,329 WARN  [main] mapreduce.TableMapReduceUtil: The hbase-prefix-tree module jar containing PrefixTreeCodec is not present.  Continuing without it.\n",
    "\n",
    "# Logging initialized using configuration in file:/etc/hive/conf.dist/hive-log4j.properties\n",
    "# WARNING: Hive CLI is deprecated and migration to Beeline is recommended.\n",
    "# hive> create external table if not exists default.purchases2 (Accept string, Host string, User_Agent string, event_type string, timestamp string) stored as parquet location '/tmp/purchases'  tblproperties (\"parquet.compress\"=\"SNAPPY\");\n",
    "# OK\n",
    "# Time taken: 1.134 seconds\n",
    "# hive> "
   ]
  },
  {
   "cell_type": "markdown",
   "metadata": {},
   "source": [
    "###### 4.3.2  run spark job to start up pyspark\n",
    "\n",
    "Read parquet from hdfs; register temp table; create external table purchase event; store as parquet\n",
    "```\n",
    "docker-compose exec spark pyspark\n",
    "```\n",
    "\n",
    "To hold the output format, the output is pasted inside the cells below:"
   ]
  },
  {
   "cell_type": "code",
   "execution_count": 60,
   "metadata": {
    "collapsed": true,
    "jupyter": {
     "outputs_hidden": true
    }
   },
   "outputs": [],
   "source": [
    "# >>> df = spark.read.parquet('/tmp/purchases')\n",
    "# >>> df.registerTempTable('purchases')\n",
    "# >>> query = \"\"\"\n",
    "# ... create external table purchase_events\n",
    "# ...   stored as parquet\n",
    "# ...   location '/tmp/purchase_events'\n",
    "# ...   as\n",
    "# ...   select * from purchases\n",
    "# ... \"\"\""
   ]
  },
  {
   "cell_type": "markdown",
   "metadata": {},
   "source": [
    "### 5.4 Presto\n",
    "\n",
    "We use Presto talking to the hive thrift server to get the table we added. After connected to hdfs we get the data\n",
    "Querying with presto.\n",
    "\n",
    "###### 5.4.1 start presto\n",
    "```\n",
    "docker-compose exec presto presto --server presto:8080 --catalog hive --schema default\n",
    "```\n",
    "\n",
    "###### 5.4.2 Querying with presto\n",
    "\n",
    "* Table; \n",
    "* select * from purchases limit 5;\n",
    "* SELECT Host, SUM(price) total_spending FROM purchases GROUP BY HOST ORDER BY total_spending desc;\n",
    "\n",
    "To hold the output format, the query results are pasted inside the cells below:"
   ]
  },
  {
   "cell_type": "code",
   "execution_count": 61,
   "metadata": {
    "collapsed": true,
    "jupyter": {
     "outputs_hidden": true
    }
   },
   "outputs": [],
   "source": [
    "# '''\n",
    "# presto:default>   Table   \n",
    "#              -> -----------  \n",
    "#              ->  purchases  \n",
    "#              -> (1 row) \n",
    "#              ->  \n",
    "#              -> Query 20180404_224746_00009_zsma3, FINISHED, 1 node \n",
    "#              -> Splits: 2 total, 1 done (50.00%) \n",
    "#              -> 0:00 [1 rows, 34B] [10 rows/s, 342B/s]\n",
    "             \n",
    "# '''"
   ]
  },
  {
   "cell_type": "code",
   "execution_count": 62,
   "metadata": {
    "collapsed": true,
    "jupyter": {
     "outputs_hidden": true
    }
   },
   "outputs": [],
   "source": [
    "# ''''''\n",
    "\n",
    "# presto:default> select * from purchases limit 5;\n",
    "#  accept |       host        |   user-agent    |   description    |   event_type   | price |        timestamp        \n",
    "# --------+-------------------+-----------------+------------------+----------------+-------+-------------------------\n",
    "#  */*    | user1.comcast.com | ApacheBench/2.3 | lightsaber_sword | purchase_sword | 150.0 | 2021-12-12 07:51:04.626 \n",
    "#  */*    | user1.comcast.com | ApacheBench/2.3 | buster_sword     | purchase_sword | 200.0 | 2021-12-12 07:51:05.177 \n",
    "#  */*    | user1.comcast.com | ApacheBench/2.3 | buster_sword     | purchase_sword | 200.0 | 2021-12-12 07:51:05.183 \n",
    "#  */*    | user1.comcast.com | ApacheBench/2.3 | diamond_sword    | purchase_sword | 300.0 | 2021-12-12 07:51:05.656 \n",
    "#  */*    | user1.comcast.com | ApacheBench/2.3 | diamond_sword    | purchase_sword | 300.0 | 2021-12-12 07:51:05.662 \n",
    "# (5 rows)\n",
    "\n",
    "# Query 20211212_091838_00010_3p4py, FINISHED, 1 node\n",
    "# Splits: 2 total, 0 done (0.00%)\n",
    "# 0:04 [0 rows, 0B] [0 rows/s, 0B/s]\n",
    "\n",
    "# presto:default> \n",
    "\n",
    "# ''''''"
   ]
  },
  {
   "cell_type": "code",
   "execution_count": 63,
   "metadata": {
    "collapsed": true,
    "jupyter": {
     "outputs_hidden": true
    }
   },
   "outputs": [],
   "source": [
    "# ''''''\n",
    "# presto:default> SELECT Host, SUM(price) total_spending FROM purchases GROUP BY HOST ORDER BY total_spending desc;\n",
    "#         Host        | total_spending \n",
    "# --------------------+----------------\n",
    "#  user4.isvc.com     |         2050.0 \n",
    "#  user5.berkeley.com |         2050.0 \n",
    "#  user1.comcast.com  |         1450.0 \n",
    "#  user3.google.com   |         1400.0 \n",
    "#  user2.att.com      |         1150.0 \n",
    "# (5 rows)\n",
    "\n",
    "# Query 20211212_092044_00011_3p4py, FINISHED, 1 node\n",
    "# Splits: 3 total, 1 done (33.33%)\n",
    "# 0:01 [38 rows, 2.36KB] [45 rows/s, 2.85KB/s]\n",
    "\n",
    "# presto:default> \n",
    "    \n",
    "# ''''''"
   ]
  },
  {
   "cell_type": "code",
   "execution_count": 64,
   "metadata": {
    "collapsed": true,
    "jupyter": {
     "outputs_hidden": true
    }
   },
   "outputs": [],
   "source": [
    "#stops streaming\n",
    "sink.stop()"
   ]
  },
  {
   "cell_type": "markdown",
   "metadata": {},
   "source": [
    "## PART 6: A Shopping Cart Implementation"
   ]
  },
  {
   "cell_type": "markdown",
   "metadata": {},
   "source": [
    "### 6.1 Method 1\n",
    "\n",
    "The Shopping Cart uses as a source the event data from Kafka/Spark, specifically the product, price, user, price_tot columns are used to create an in-memory SQLLite table that serves as the table that represents the data in the user's current shopping cart.\n",
    "\n",
    "###### 6.1.1.Stage 1, preprocessing\n",
    "\n",
    "In this stage we extract the data from the event in Spark to an Array, then transform the extracted data to the proper format for insertion into SQLLite."
   ]
  },
  {
   "cell_type": "code",
   "execution_count": 65,
   "metadata": {
    "collapsed": true,
    "jupyter": {
     "outputs_hidden": true
    }
   },
   "outputs": [],
   "source": [
    "# Convert the first row of the Spark dataframe event to an Array by collecting from the RDD.\n",
    "cart_data = extracted_purchase_events.select(\"description\", 'Host', 'event_type', 'price', 'timestamp').limit(1).rdd.flatMap(lambda x: x).collect()\n",
    "\n",
    "# Convert each element in the given Array to a string.\n",
    "cd = []\n",
    "for i in cart_data:\n",
    "    cd.append(str(i))\n",
    "    \n",
    "str1 = \"\"\n",
    "for e in cd:\n",
    "   str1 += \"'\"+e+\"', \"\n",
    "\n",
    "final_insert = str1[:-2] \n",
    "# sanity check the query string.\n",
    "# print(final_insert)"
   ]
  },
  {
   "cell_type": "markdown",
   "metadata": {},
   "source": [
    "##### 6.1.2 Stage 2, building the cart\n",
    "In this stage we perform DDL/DML operations to build and modify the contents of the shopping cart, where a user may add or remove items from their shopping cart.\n",
    "\n",
    "1. Create the CART table which supports the adding products to shopping cart.\n",
    "2. Using the preprocessed event data, insert the event data from Spark into the SQLLite CART table.\n",
    "3. We then select the event data from the SQLLite CART table.\n",
    "4. And lastly, we delete the inserted event from the CART table."
   ]
  },
  {
   "cell_type": "code",
   "execution_count": 66,
   "metadata": {
    "scrolled": true
   },
   "outputs": [
    {
     "name": "stdout",
     "output_type": "stream",
     "text": [
      "Opened database successfully\n"
     ]
    },
    {
     "data": {
      "text/plain": [
       "<sqlite3.Cursor at 0x7f248c583ab0>"
      ]
     },
     "execution_count": 66,
     "metadata": {},
     "output_type": "execute_result"
    },
    {
     "data": {
      "text/plain": [
       "<sqlite3.Cursor at 0x7f248c583c00>"
      ]
     },
     "execution_count": 66,
     "metadata": {},
     "output_type": "execute_result"
    },
    {
     "name": "stdout",
     "output_type": "stream",
     "text": [
      "Table created successfully\n",
      "Opened database successfully\n"
     ]
    },
    {
     "data": {
      "text/plain": [
       "<sqlite3.Cursor at 0x7f248c583b90>"
      ]
     },
     "execution_count": 66,
     "metadata": {},
     "output_type": "execute_result"
    },
    {
     "name": "stdout",
     "output_type": "stream",
     "text": [
      "Total number of rows Inserted :1\n",
      "Opened database successfully\n",
      "ID =  lightsaber_sword\n",
      "product =  user1.comcast.com\n",
      "user =  150.0\n",
      "price_tot =  2021-12-13 01:00:16.093\n",
      "Selected rows successfully.\n",
      "Opened database successfully\n"
     ]
    },
    {
     "data": {
      "text/plain": [
       "<sqlite3.Cursor at 0x7f248c583ce0>"
      ]
     },
     "execution_count": 66,
     "metadata": {},
     "output_type": "execute_result"
    },
    {
     "name": "stdout",
     "output_type": "stream",
     "text": [
      "Total number of rows Deleted from shopping cart:1\n"
     ]
    }
   ],
   "source": [
    "import sqlite3\n",
    "\n",
    "# Create the CART table.\n",
    "conn = sqlite3.connect('shopping_db.db')\n",
    "print (\"Opened database successfully\")\n",
    "conn.execute('''DROP TABLE IF EXISTS CART''')\n",
    "conn.execute('''CREATE TABLE CART\n",
    "       (ID TEXT     NOT NULL,\n",
    "       product           TEXT    NOT NULL,\n",
    "       price            TEXT     NOT NULL,\n",
    "       user        CHAR(50),\n",
    "       price_tot         REAL);''')\n",
    "\n",
    "print (\"Table created successfully\")\n",
    "conn.commit()\n",
    "conn.close()\n",
    "\n",
    "\n",
    "# Insert the event into the CART table.\n",
    "conn = sqlite3.connect('shopping_db.db')\n",
    "print (\"Opened database successfully\")\n",
    "conn.execute(f\"INSERT INTO CART (ID, product, price, user, price_tot) VALUES ( {final_insert} )\")\n",
    "print(\"Total number of rows Inserted :\" + str(conn.total_changes))\n",
    "conn.commit()\n",
    "conn.close()\n",
    "\n",
    "\n",
    "# Select the inserted event from the CART table.\n",
    "conn = sqlite3.connect('shopping_db.db')\n",
    "print (\"Opened database successfully\")\n",
    "cursor = conn.execute(\"SELECT ID, product, user, price_tot from CART\")\n",
    "for row in cursor:\n",
    "   print (\"ID = \", row[0])\n",
    "   print (\"product = \", row[1])\n",
    "   print (\"user = \", row[2])\n",
    "   print (\"price_tot = \", row[3])\n",
    "print(\"Selected rows successfully.\")\n",
    "conn.commit()\n",
    "conn.close()\n",
    "\n",
    "\n",
    "# Delete the event from the CART table.\n",
    "conn = sqlite3.connect('shopping_db.db')\n",
    "print (\"Opened database successfully\")\n",
    "conn.execute(\"DELETE from CART where ID IS NOT NULL\")\n",
    "print(\"Total number of rows Deleted from shopping cart:\" + str(conn.total_changes))\n",
    "conn.commit()\n",
    "conn.close()\n"
   ]
  },
  {
   "cell_type": "markdown",
   "metadata": {},
   "source": [
    "### 6.2 Method 2:  "
   ]
  },
  {
   "cell_type": "markdown",
   "metadata": {},
   "source": [
    "In this stage we use Sqlite3 to perform DDL/DML operations to build and modify the contents of the shopping cart, where a user may add or remove items from their shopping cart.\n",
    "\n",
    "1. Create the CART table which supports the adding products to shopping cart.\n",
    "2. Using the preprocessed event data, insert the event data from Spark into the SQLLite CART table.\n",
    "3. We then select the event data from the SQLLite CART table.\n",
    "4. And lastly, we delete the inserted event from the CART table."
   ]
  },
  {
   "cell_type": "code",
   "execution_count": 67,
   "metadata": {
    "collapsed": true,
    "jupyter": {
     "outputs_hidden": true
    }
   },
   "outputs": [],
   "source": [
    "import sqlite3\n",
    "# Create your connection.\n",
    "cnx = sqlite3.connect(':memory:')"
   ]
  },
  {
   "cell_type": "markdown",
   "metadata": {},
   "source": [
    "### 6.3 Shopping CART Operations: "
   ]
  },
  {
   "cell_type": "markdown",
   "metadata": {},
   "source": [
    "##### 6.3.1 Create Salite3 based CART"
   ]
  },
  {
   "cell_type": "code",
   "execution_count": 68,
   "metadata": {
    "collapsed": true,
    "jupyter": {
     "outputs_hidden": true
    }
   },
   "outputs": [],
   "source": [
    "CART_purchase = extracted_purchase_events.toPandas()\n",
    "CART_return = extracted_return_events.toPandas()"
   ]
  },
  {
   "cell_type": "code",
   "execution_count": 69,
   "metadata": {
    "collapsed": true,
    "jupyter": {
     "outputs_hidden": true
    }
   },
   "outputs": [],
   "source": [
    "CART_purchase.to_sql(name='CART', con=cnx)"
   ]
  },
  {
   "cell_type": "code",
   "execution_count": 70,
   "metadata": {
    "collapsed": true,
    "jupyter": {
     "outputs_hidden": true
    }
   },
   "outputs": [],
   "source": [
    "p2 = pd.read_sql('select * from CART', cnx)"
   ]
  },
  {
   "cell_type": "code",
   "execution_count": 71,
   "metadata": {},
   "outputs": [
    {
     "data": {
      "text/html": [
       "<div>\n",
       "<style>\n",
       "    .dataframe thead tr:only-child th {\n",
       "        text-align: right;\n",
       "    }\n",
       "\n",
       "    .dataframe thead th {\n",
       "        text-align: left;\n",
       "    }\n",
       "\n",
       "    .dataframe tbody tr th {\n",
       "        vertical-align: top;\n",
       "    }\n",
       "</style>\n",
       "<table border=\"1\" class=\"dataframe\">\n",
       "  <thead>\n",
       "    <tr style=\"text-align: right;\">\n",
       "      <th></th>\n",
       "      <th>index</th>\n",
       "      <th>Accept</th>\n",
       "      <th>Host</th>\n",
       "      <th>User-Agent</th>\n",
       "      <th>description</th>\n",
       "      <th>event_type</th>\n",
       "      <th>price</th>\n",
       "      <th>timestamp</th>\n",
       "    </tr>\n",
       "  </thead>\n",
       "  <tbody>\n",
       "    <tr>\n",
       "      <th>0</th>\n",
       "      <td>0</td>\n",
       "      <td>*/*</td>\n",
       "      <td>user1.comcast.com</td>\n",
       "      <td>ApacheBench/2.3</td>\n",
       "      <td>lightsaber_sword</td>\n",
       "      <td>purchase_sword</td>\n",
       "      <td>150.0</td>\n",
       "      <td>2021-12-13 01:00:16.093</td>\n",
       "    </tr>\n",
       "    <tr>\n",
       "      <th>1</th>\n",
       "      <td>1</td>\n",
       "      <td>*/*</td>\n",
       "      <td>user1.comcast.com</td>\n",
       "      <td>ApacheBench/2.3</td>\n",
       "      <td>buster_sword</td>\n",
       "      <td>purchase_sword</td>\n",
       "      <td>200.0</td>\n",
       "      <td>2021-12-13 01:00:17.129</td>\n",
       "    </tr>\n",
       "    <tr>\n",
       "      <th>2</th>\n",
       "      <td>2</td>\n",
       "      <td>*/*</td>\n",
       "      <td>user1.comcast.com</td>\n",
       "      <td>ApacheBench/2.3</td>\n",
       "      <td>buster_sword</td>\n",
       "      <td>purchase_sword</td>\n",
       "      <td>200.0</td>\n",
       "      <td>2021-12-13 01:00:17.139</td>\n",
       "    </tr>\n",
       "    <tr>\n",
       "      <th>3</th>\n",
       "      <td>3</td>\n",
       "      <td>*/*</td>\n",
       "      <td>user1.comcast.com</td>\n",
       "      <td>ApacheBench/2.3</td>\n",
       "      <td>diamond_sword</td>\n",
       "      <td>purchase_sword</td>\n",
       "      <td>300.0</td>\n",
       "      <td>2021-12-13 01:00:17.961</td>\n",
       "    </tr>\n",
       "    <tr>\n",
       "      <th>4</th>\n",
       "      <td>4</td>\n",
       "      <td>*/*</td>\n",
       "      <td>user1.comcast.com</td>\n",
       "      <td>ApacheBench/2.3</td>\n",
       "      <td>diamond_sword</td>\n",
       "      <td>purchase_sword</td>\n",
       "      <td>300.0</td>\n",
       "      <td>2021-12-13 01:00:17.975</td>\n",
       "    </tr>\n",
       "  </tbody>\n",
       "</table>\n",
       "</div>"
      ],
      "text/plain": [
       "   index Accept               Host       User-Agent       description  \\\n",
       "0      0    */*  user1.comcast.com  ApacheBench/2.3  lightsaber_sword   \n",
       "1      1    */*  user1.comcast.com  ApacheBench/2.3      buster_sword   \n",
       "2      2    */*  user1.comcast.com  ApacheBench/2.3      buster_sword   \n",
       "3      3    */*  user1.comcast.com  ApacheBench/2.3     diamond_sword   \n",
       "4      4    */*  user1.comcast.com  ApacheBench/2.3     diamond_sword   \n",
       "\n",
       "       event_type  price                timestamp  \n",
       "0  purchase_sword  150.0  2021-12-13 01:00:16.093  \n",
       "1  purchase_sword  200.0  2021-12-13 01:00:17.129  \n",
       "2  purchase_sword  200.0  2021-12-13 01:00:17.139  \n",
       "3  purchase_sword  300.0  2021-12-13 01:00:17.961  \n",
       "4  purchase_sword  300.0  2021-12-13 01:00:17.975  "
      ]
     },
     "execution_count": 71,
     "metadata": {},
     "output_type": "execute_result"
    }
   ],
   "source": [
    "pd.read_sql('select * from CART limit(5)', cnx)"
   ]
  },
  {
   "cell_type": "code",
   "execution_count": 72,
   "metadata": {},
   "outputs": [
    {
     "data": {
      "text/html": [
       "<div>\n",
       "<style>\n",
       "    .dataframe thead tr:only-child th {\n",
       "        text-align: right;\n",
       "    }\n",
       "\n",
       "    .dataframe thead th {\n",
       "        text-align: left;\n",
       "    }\n",
       "\n",
       "    .dataframe tbody tr th {\n",
       "        vertical-align: top;\n",
       "    }\n",
       "</style>\n",
       "<table border=\"1\" class=\"dataframe\">\n",
       "  <thead>\n",
       "    <tr style=\"text-align: right;\">\n",
       "      <th></th>\n",
       "      <th>sum(price)</th>\n",
       "    </tr>\n",
       "  </thead>\n",
       "  <tbody>\n",
       "    <tr>\n",
       "      <th>0</th>\n",
       "      <td>8100.0</td>\n",
       "    </tr>\n",
       "  </tbody>\n",
       "</table>\n",
       "</div>"
      ],
      "text/plain": [
       "   sum(price)\n",
       "0      8100.0"
      ]
     },
     "execution_count": 72,
     "metadata": {},
     "output_type": "execute_result"
    }
   ],
   "source": [
    "pd.read_sql('select sum(price) from CART', cnx)"
   ]
  },
  {
   "cell_type": "markdown",
   "metadata": {},
   "source": [
    "##### 6.3.2 Update purchase events in the CART\n",
    "\n",
    "1. add purchase events\n",
    "2. calcuilate total income "
   ]
  },
  {
   "cell_type": "code",
   "execution_count": 73,
   "metadata": {
    "collapsed": true,
    "jupyter": {
     "outputs_hidden": true
    }
   },
   "outputs": [],
   "source": [
    "CART_purchase.to_sql('CART', cnx, if_exists='append', index=False)"
   ]
  },
  {
   "cell_type": "code",
   "execution_count": 74,
   "metadata": {},
   "outputs": [
    {
     "data": {
      "text/html": [
       "<div>\n",
       "<style>\n",
       "    .dataframe thead tr:only-child th {\n",
       "        text-align: right;\n",
       "    }\n",
       "\n",
       "    .dataframe thead th {\n",
       "        text-align: left;\n",
       "    }\n",
       "\n",
       "    .dataframe tbody tr th {\n",
       "        vertical-align: top;\n",
       "    }\n",
       "</style>\n",
       "<table border=\"1\" class=\"dataframe\">\n",
       "  <thead>\n",
       "    <tr style=\"text-align: right;\">\n",
       "      <th></th>\n",
       "      <th>index</th>\n",
       "      <th>Accept</th>\n",
       "      <th>Host</th>\n",
       "      <th>User-Agent</th>\n",
       "      <th>description</th>\n",
       "      <th>event_type</th>\n",
       "      <th>price</th>\n",
       "      <th>timestamp</th>\n",
       "    </tr>\n",
       "  </thead>\n",
       "  <tbody>\n",
       "    <tr>\n",
       "      <th>0</th>\n",
       "      <td>0</td>\n",
       "      <td>*/*</td>\n",
       "      <td>user1.comcast.com</td>\n",
       "      <td>ApacheBench/2.3</td>\n",
       "      <td>lightsaber_sword</td>\n",
       "      <td>purchase_sword</td>\n",
       "      <td>150.0</td>\n",
       "      <td>2021-12-13 01:00:16.093</td>\n",
       "    </tr>\n",
       "    <tr>\n",
       "      <th>1</th>\n",
       "      <td>1</td>\n",
       "      <td>*/*</td>\n",
       "      <td>user1.comcast.com</td>\n",
       "      <td>ApacheBench/2.3</td>\n",
       "      <td>buster_sword</td>\n",
       "      <td>purchase_sword</td>\n",
       "      <td>200.0</td>\n",
       "      <td>2021-12-13 01:00:17.129</td>\n",
       "    </tr>\n",
       "    <tr>\n",
       "      <th>2</th>\n",
       "      <td>2</td>\n",
       "      <td>*/*</td>\n",
       "      <td>user1.comcast.com</td>\n",
       "      <td>ApacheBench/2.3</td>\n",
       "      <td>buster_sword</td>\n",
       "      <td>purchase_sword</td>\n",
       "      <td>200.0</td>\n",
       "      <td>2021-12-13 01:00:17.139</td>\n",
       "    </tr>\n",
       "    <tr>\n",
       "      <th>3</th>\n",
       "      <td>3</td>\n",
       "      <td>*/*</td>\n",
       "      <td>user1.comcast.com</td>\n",
       "      <td>ApacheBench/2.3</td>\n",
       "      <td>diamond_sword</td>\n",
       "      <td>purchase_sword</td>\n",
       "      <td>300.0</td>\n",
       "      <td>2021-12-13 01:00:17.961</td>\n",
       "    </tr>\n",
       "    <tr>\n",
       "      <th>4</th>\n",
       "      <td>4</td>\n",
       "      <td>*/*</td>\n",
       "      <td>user1.comcast.com</td>\n",
       "      <td>ApacheBench/2.3</td>\n",
       "      <td>diamond_sword</td>\n",
       "      <td>purchase_sword</td>\n",
       "      <td>300.0</td>\n",
       "      <td>2021-12-13 01:00:17.975</td>\n",
       "    </tr>\n",
       "  </tbody>\n",
       "</table>\n",
       "</div>"
      ],
      "text/plain": [
       "   index Accept               Host       User-Agent       description  \\\n",
       "0      0    */*  user1.comcast.com  ApacheBench/2.3  lightsaber_sword   \n",
       "1      1    */*  user1.comcast.com  ApacheBench/2.3      buster_sword   \n",
       "2      2    */*  user1.comcast.com  ApacheBench/2.3      buster_sword   \n",
       "3      3    */*  user1.comcast.com  ApacheBench/2.3     diamond_sword   \n",
       "4      4    */*  user1.comcast.com  ApacheBench/2.3     diamond_sword   \n",
       "\n",
       "       event_type  price                timestamp  \n",
       "0  purchase_sword  150.0  2021-12-13 01:00:16.093  \n",
       "1  purchase_sword  200.0  2021-12-13 01:00:17.129  \n",
       "2  purchase_sword  200.0  2021-12-13 01:00:17.139  \n",
       "3  purchase_sword  300.0  2021-12-13 01:00:17.961  \n",
       "4  purchase_sword  300.0  2021-12-13 01:00:17.975  "
      ]
     },
     "execution_count": 74,
     "metadata": {},
     "output_type": "execute_result"
    }
   ],
   "source": [
    "pd.read_sql('select * from CART limit(5) ', cnx)"
   ]
  },
  {
   "cell_type": "code",
   "execution_count": 75,
   "metadata": {},
   "outputs": [
    {
     "data": {
      "text/html": [
       "<div>\n",
       "<style>\n",
       "    .dataframe thead tr:only-child th {\n",
       "        text-align: right;\n",
       "    }\n",
       "\n",
       "    .dataframe thead th {\n",
       "        text-align: left;\n",
       "    }\n",
       "\n",
       "    .dataframe tbody tr th {\n",
       "        vertical-align: top;\n",
       "    }\n",
       "</style>\n",
       "<table border=\"1\" class=\"dataframe\">\n",
       "  <thead>\n",
       "    <tr style=\"text-align: right;\">\n",
       "      <th></th>\n",
       "      <th>sum(price)</th>\n",
       "    </tr>\n",
       "  </thead>\n",
       "  <tbody>\n",
       "    <tr>\n",
       "      <th>0</th>\n",
       "      <td>16200.0</td>\n",
       "    </tr>\n",
       "  </tbody>\n",
       "</table>\n",
       "</div>"
      ],
      "text/plain": [
       "   sum(price)\n",
       "0     16200.0"
      ]
     },
     "execution_count": 75,
     "metadata": {},
     "output_type": "execute_result"
    }
   ],
   "source": [
    "pd.read_sql('select sum(price) from CART', cnx)"
   ]
  },
  {
   "cell_type": "markdown",
   "metadata": {},
   "source": [
    "##### 6.3.3 Update return events in CART\n",
    " \n",
    "1. add resturn events\n",
    "2. calcuilate total income "
   ]
  },
  {
   "cell_type": "code",
   "execution_count": 76,
   "metadata": {
    "collapsed": true,
    "jupyter": {
     "outputs_hidden": true
    }
   },
   "outputs": [],
   "source": [
    "CART_return.to_sql('CART', cnx, if_exists='append', index=False)"
   ]
  },
  {
   "cell_type": "code",
   "execution_count": 77,
   "metadata": {},
   "outputs": [
    {
     "data": {
      "text/html": [
       "<div>\n",
       "<style>\n",
       "    .dataframe thead tr:only-child th {\n",
       "        text-align: right;\n",
       "    }\n",
       "\n",
       "    .dataframe thead th {\n",
       "        text-align: left;\n",
       "    }\n",
       "\n",
       "    .dataframe tbody tr th {\n",
       "        vertical-align: top;\n",
       "    }\n",
       "</style>\n",
       "<table border=\"1\" class=\"dataframe\">\n",
       "  <thead>\n",
       "    <tr style=\"text-align: right;\">\n",
       "      <th></th>\n",
       "      <th>index</th>\n",
       "      <th>Accept</th>\n",
       "      <th>Host</th>\n",
       "      <th>User-Agent</th>\n",
       "      <th>description</th>\n",
       "      <th>event_type</th>\n",
       "      <th>price</th>\n",
       "      <th>timestamp</th>\n",
       "    </tr>\n",
       "  </thead>\n",
       "  <tbody>\n",
       "    <tr>\n",
       "      <th>0</th>\n",
       "      <td>0</td>\n",
       "      <td>*/*</td>\n",
       "      <td>user1.comcast.com</td>\n",
       "      <td>ApacheBench/2.3</td>\n",
       "      <td>lightsaber_sword</td>\n",
       "      <td>purchase_sword</td>\n",
       "      <td>150.0</td>\n",
       "      <td>2021-12-13 01:00:16.093</td>\n",
       "    </tr>\n",
       "    <tr>\n",
       "      <th>1</th>\n",
       "      <td>1</td>\n",
       "      <td>*/*</td>\n",
       "      <td>user1.comcast.com</td>\n",
       "      <td>ApacheBench/2.3</td>\n",
       "      <td>buster_sword</td>\n",
       "      <td>purchase_sword</td>\n",
       "      <td>200.0</td>\n",
       "      <td>2021-12-13 01:00:17.129</td>\n",
       "    </tr>\n",
       "    <tr>\n",
       "      <th>2</th>\n",
       "      <td>2</td>\n",
       "      <td>*/*</td>\n",
       "      <td>user1.comcast.com</td>\n",
       "      <td>ApacheBench/2.3</td>\n",
       "      <td>buster_sword</td>\n",
       "      <td>purchase_sword</td>\n",
       "      <td>200.0</td>\n",
       "      <td>2021-12-13 01:00:17.139</td>\n",
       "    </tr>\n",
       "    <tr>\n",
       "      <th>3</th>\n",
       "      <td>3</td>\n",
       "      <td>*/*</td>\n",
       "      <td>user1.comcast.com</td>\n",
       "      <td>ApacheBench/2.3</td>\n",
       "      <td>diamond_sword</td>\n",
       "      <td>purchase_sword</td>\n",
       "      <td>300.0</td>\n",
       "      <td>2021-12-13 01:00:17.961</td>\n",
       "    </tr>\n",
       "    <tr>\n",
       "      <th>4</th>\n",
       "      <td>4</td>\n",
       "      <td>*/*</td>\n",
       "      <td>user1.comcast.com</td>\n",
       "      <td>ApacheBench/2.3</td>\n",
       "      <td>diamond_sword</td>\n",
       "      <td>purchase_sword</td>\n",
       "      <td>300.0</td>\n",
       "      <td>2021-12-13 01:00:17.975</td>\n",
       "    </tr>\n",
       "  </tbody>\n",
       "</table>\n",
       "</div>"
      ],
      "text/plain": [
       "   index Accept               Host       User-Agent       description  \\\n",
       "0      0    */*  user1.comcast.com  ApacheBench/2.3  lightsaber_sword   \n",
       "1      1    */*  user1.comcast.com  ApacheBench/2.3      buster_sword   \n",
       "2      2    */*  user1.comcast.com  ApacheBench/2.3      buster_sword   \n",
       "3      3    */*  user1.comcast.com  ApacheBench/2.3     diamond_sword   \n",
       "4      4    */*  user1.comcast.com  ApacheBench/2.3     diamond_sword   \n",
       "\n",
       "       event_type  price                timestamp  \n",
       "0  purchase_sword  150.0  2021-12-13 01:00:16.093  \n",
       "1  purchase_sword  200.0  2021-12-13 01:00:17.129  \n",
       "2  purchase_sword  200.0  2021-12-13 01:00:17.139  \n",
       "3  purchase_sword  300.0  2021-12-13 01:00:17.961  \n",
       "4  purchase_sword  300.0  2021-12-13 01:00:17.975  "
      ]
     },
     "execution_count": 77,
     "metadata": {},
     "output_type": "execute_result"
    }
   ],
   "source": [
    "pd.read_sql('select * from CART limit(5)', cnx)"
   ]
  },
  {
   "cell_type": "code",
   "execution_count": 78,
   "metadata": {},
   "outputs": [
    {
     "data": {
      "text/html": [
       "<div>\n",
       "<style>\n",
       "    .dataframe thead tr:only-child th {\n",
       "        text-align: right;\n",
       "    }\n",
       "\n",
       "    .dataframe thead th {\n",
       "        text-align: left;\n",
       "    }\n",
       "\n",
       "    .dataframe tbody tr th {\n",
       "        vertical-align: top;\n",
       "    }\n",
       "</style>\n",
       "<table border=\"1\" class=\"dataframe\">\n",
       "  <thead>\n",
       "    <tr style=\"text-align: right;\">\n",
       "      <th></th>\n",
       "      <th>sum(price)</th>\n",
       "    </tr>\n",
       "  </thead>\n",
       "  <tbody>\n",
       "    <tr>\n",
       "      <th>0</th>\n",
       "      <td>11240.0</td>\n",
       "    </tr>\n",
       "  </tbody>\n",
       "</table>\n",
       "</div>"
      ],
      "text/plain": [
       "   sum(price)\n",
       "0     11240.0"
      ]
     },
     "execution_count": 78,
     "metadata": {},
     "output_type": "execute_result"
    }
   ],
   "source": [
    "pd.read_sql('select sum(price) from CART', cnx)"
   ]
  },
  {
   "cell_type": "markdown",
   "metadata": {},
   "source": [
    "##### 6.3.4 Edit records and events in CART\n",
    " \n",
    "1. Edit records and events in CART\n",
    "2. calcuilate total income "
   ]
  },
  {
   "cell_type": "code",
   "execution_count": 79,
   "metadata": {},
   "outputs": [
    {
     "data": {
      "text/plain": [
       "<sqlite3.Cursor at 0x7f248c583b90>"
      ]
     },
     "execution_count": 79,
     "metadata": {},
     "output_type": "execute_result"
    }
   ],
   "source": [
    "cnx.execute(\"DELETE from CART where Host IS 'user3.google.com'\")"
   ]
  },
  {
   "cell_type": "code",
   "execution_count": 80,
   "metadata": {},
   "outputs": [
    {
     "data": {
      "text/html": [
       "<div>\n",
       "<style>\n",
       "    .dataframe thead tr:only-child th {\n",
       "        text-align: right;\n",
       "    }\n",
       "\n",
       "    .dataframe thead th {\n",
       "        text-align: left;\n",
       "    }\n",
       "\n",
       "    .dataframe tbody tr th {\n",
       "        vertical-align: top;\n",
       "    }\n",
       "</style>\n",
       "<table border=\"1\" class=\"dataframe\">\n",
       "  <thead>\n",
       "    <tr style=\"text-align: right;\">\n",
       "      <th></th>\n",
       "      <th>sum(price)</th>\n",
       "    </tr>\n",
       "  </thead>\n",
       "  <tbody>\n",
       "    <tr>\n",
       "      <th>0</th>\n",
       "      <td>9120.0</td>\n",
       "    </tr>\n",
       "  </tbody>\n",
       "</table>\n",
       "</div>"
      ],
      "text/plain": [
       "   sum(price)\n",
       "0      9120.0"
      ]
     },
     "execution_count": 80,
     "metadata": {},
     "output_type": "execute_result"
    }
   ],
   "source": [
    "pd.read_sql('select sum(price) from CART', cnx)"
   ]
  },
  {
   "cell_type": "markdown",
   "metadata": {},
   "source": [
    "##### 6.3.5 Statistice business transactions and profits \n",
    "\n",
    "1. Edit records and events in CART\n",
    "2. calcuilate total income "
   ]
  },
  {
   "cell_type": "code",
   "execution_count": 81,
   "metadata": {},
   "outputs": [
    {
     "data": {
      "text/html": [
       "<div>\n",
       "<style>\n",
       "    .dataframe thead tr:only-child th {\n",
       "        text-align: right;\n",
       "    }\n",
       "\n",
       "    .dataframe thead th {\n",
       "        text-align: left;\n",
       "    }\n",
       "\n",
       "    .dataframe tbody tr th {\n",
       "        vertical-align: top;\n",
       "    }\n",
       "</style>\n",
       "<table border=\"1\" class=\"dataframe\">\n",
       "  <thead>\n",
       "    <tr style=\"text-align: right;\">\n",
       "      <th></th>\n",
       "      <th>index</th>\n",
       "      <th>Accept</th>\n",
       "      <th>Host</th>\n",
       "      <th>User-Agent</th>\n",
       "      <th>description</th>\n",
       "      <th>event_type</th>\n",
       "      <th>price</th>\n",
       "      <th>timestamp</th>\n",
       "    </tr>\n",
       "  </thead>\n",
       "  <tbody>\n",
       "    <tr>\n",
       "      <th>0</th>\n",
       "      <td>0</td>\n",
       "      <td>*/*</td>\n",
       "      <td>user1.comcast.com</td>\n",
       "      <td>ApacheBench/2.3</td>\n",
       "      <td>lightsaber_sword</td>\n",
       "      <td>purchase_sword</td>\n",
       "      <td>150.0</td>\n",
       "      <td>2021-12-13 01:00:16.093</td>\n",
       "    </tr>\n",
       "    <tr>\n",
       "      <th>1</th>\n",
       "      <td>1</td>\n",
       "      <td>*/*</td>\n",
       "      <td>user1.comcast.com</td>\n",
       "      <td>ApacheBench/2.3</td>\n",
       "      <td>buster_sword</td>\n",
       "      <td>purchase_sword</td>\n",
       "      <td>200.0</td>\n",
       "      <td>2021-12-13 01:00:17.129</td>\n",
       "    </tr>\n",
       "    <tr>\n",
       "      <th>2</th>\n",
       "      <td>2</td>\n",
       "      <td>*/*</td>\n",
       "      <td>user1.comcast.com</td>\n",
       "      <td>ApacheBench/2.3</td>\n",
       "      <td>buster_sword</td>\n",
       "      <td>purchase_sword</td>\n",
       "      <td>200.0</td>\n",
       "      <td>2021-12-13 01:00:17.139</td>\n",
       "    </tr>\n",
       "    <tr>\n",
       "      <th>3</th>\n",
       "      <td>3</td>\n",
       "      <td>*/*</td>\n",
       "      <td>user1.comcast.com</td>\n",
       "      <td>ApacheBench/2.3</td>\n",
       "      <td>diamond_sword</td>\n",
       "      <td>purchase_sword</td>\n",
       "      <td>300.0</td>\n",
       "      <td>2021-12-13 01:00:17.961</td>\n",
       "    </tr>\n",
       "    <tr>\n",
       "      <th>4</th>\n",
       "      <td>4</td>\n",
       "      <td>*/*</td>\n",
       "      <td>user1.comcast.com</td>\n",
       "      <td>ApacheBench/2.3</td>\n",
       "      <td>diamond_sword</td>\n",
       "      <td>purchase_sword</td>\n",
       "      <td>300.0</td>\n",
       "      <td>2021-12-13 01:00:17.975</td>\n",
       "    </tr>\n",
       "  </tbody>\n",
       "</table>\n",
       "</div>"
      ],
      "text/plain": [
       "   index Accept               Host       User-Agent       description  \\\n",
       "0      0    */*  user1.comcast.com  ApacheBench/2.3  lightsaber_sword   \n",
       "1      1    */*  user1.comcast.com  ApacheBench/2.3      buster_sword   \n",
       "2      2    */*  user1.comcast.com  ApacheBench/2.3      buster_sword   \n",
       "3      3    */*  user1.comcast.com  ApacheBench/2.3     diamond_sword   \n",
       "4      4    */*  user1.comcast.com  ApacheBench/2.3     diamond_sword   \n",
       "\n",
       "       event_type  price                timestamp  \n",
       "0  purchase_sword  150.0  2021-12-13 01:00:16.093  \n",
       "1  purchase_sword  200.0  2021-12-13 01:00:17.129  \n",
       "2  purchase_sword  200.0  2021-12-13 01:00:17.139  \n",
       "3  purchase_sword  300.0  2021-12-13 01:00:17.961  \n",
       "4  purchase_sword  300.0  2021-12-13 01:00:17.975  "
      ]
     },
     "execution_count": 81,
     "metadata": {},
     "output_type": "execute_result"
    }
   ],
   "source": [
    "pd.read_sql('select * from CART limit(5)', cnx)"
   ]
  },
  {
   "cell_type": "code",
   "execution_count": 82,
   "metadata": {},
   "outputs": [
    {
     "data": {
      "text/html": [
       "<div>\n",
       "<style>\n",
       "    .dataframe thead tr:only-child th {\n",
       "        text-align: right;\n",
       "    }\n",
       "\n",
       "    .dataframe thead th {\n",
       "        text-align: left;\n",
       "    }\n",
       "\n",
       "    .dataframe tbody tr th {\n",
       "        vertical-align: top;\n",
       "    }\n",
       "</style>\n",
       "<table border=\"1\" class=\"dataframe\">\n",
       "  <thead>\n",
       "    <tr style=\"text-align: right;\">\n",
       "      <th></th>\n",
       "      <th>sum(price)</th>\n",
       "    </tr>\n",
       "  </thead>\n",
       "  <tbody>\n",
       "    <tr>\n",
       "      <th>0</th>\n",
       "      <td>9120.0</td>\n",
       "    </tr>\n",
       "  </tbody>\n",
       "</table>\n",
       "</div>"
      ],
      "text/plain": [
       "   sum(price)\n",
       "0      9120.0"
      ]
     },
     "execution_count": 82,
     "metadata": {},
     "output_type": "execute_result"
    }
   ],
   "source": [
    "pd.read_sql('select sum(price) from CART', cnx)"
   ]
  },
  {
   "cell_type": "markdown",
   "metadata": {},
   "source": [
    "##### 6.3.6 Which user spent most Monday to purchase ?  \n"
   ]
  },
  {
   "cell_type": "code",
   "execution_count": 83,
   "metadata": {},
   "outputs": [
    {
     "data": {
      "text/html": [
       "<div>\n",
       "<style>\n",
       "    .dataframe thead tr:only-child th {\n",
       "        text-align: right;\n",
       "    }\n",
       "\n",
       "    .dataframe thead th {\n",
       "        text-align: left;\n",
       "    }\n",
       "\n",
       "    .dataframe tbody tr th {\n",
       "        vertical-align: top;\n",
       "    }\n",
       "</style>\n",
       "<table border=\"1\" class=\"dataframe\">\n",
       "  <thead>\n",
       "    <tr style=\"text-align: right;\">\n",
       "      <th></th>\n",
       "      <th>Host</th>\n",
       "      <th>total_spending</th>\n",
       "    </tr>\n",
       "  </thead>\n",
       "  <tbody>\n",
       "    <tr>\n",
       "      <th>0</th>\n",
       "      <td>user4.isvc.com</td>\n",
       "      <td>3225.0</td>\n",
       "    </tr>\n",
       "    <tr>\n",
       "      <th>1</th>\n",
       "      <td>user1.comcast.com</td>\n",
       "      <td>2160.0</td>\n",
       "    </tr>\n",
       "    <tr>\n",
       "      <th>2</th>\n",
       "      <td>user5.berkeley.com</td>\n",
       "      <td>2095.0</td>\n",
       "    </tr>\n",
       "    <tr>\n",
       "      <th>3</th>\n",
       "      <td>user2.att.com</td>\n",
       "      <td>1640.0</td>\n",
       "    </tr>\n",
       "  </tbody>\n",
       "</table>\n",
       "</div>"
      ],
      "text/plain": [
       "                 Host  total_spending\n",
       "0      user4.isvc.com          3225.0\n",
       "1   user1.comcast.com          2160.0\n",
       "2  user5.berkeley.com          2095.0\n",
       "3       user2.att.com          1640.0"
      ]
     },
     "execution_count": 83,
     "metadata": {},
     "output_type": "execute_result"
    }
   ],
   "source": [
    "pd.read_sql( 'SELECT Host, SUM(price) total_spending FROM CART GROUP BY HOST ORDER BY total_spending desc', cnx)           "
   ]
  },
  {
   "cell_type": "markdown",
   "metadata": {},
   "source": [
    "##### 6.3.7 How many transactions for each of the users are there in  this game ?  "
   ]
  },
  {
   "cell_type": "code",
   "execution_count": 84,
   "metadata": {},
   "outputs": [
    {
     "data": {
      "text/html": [
       "<div>\n",
       "<style>\n",
       "    .dataframe thead tr:only-child th {\n",
       "        text-align: right;\n",
       "    }\n",
       "\n",
       "    .dataframe thead th {\n",
       "        text-align: left;\n",
       "    }\n",
       "\n",
       "    .dataframe tbody tr th {\n",
       "        vertical-align: top;\n",
       "    }\n",
       "</style>\n",
       "<table border=\"1\" class=\"dataframe\">\n",
       "  <thead>\n",
       "    <tr style=\"text-align: right;\">\n",
       "      <th></th>\n",
       "      <th>Host</th>\n",
       "      <th>transactions</th>\n",
       "    </tr>\n",
       "  </thead>\n",
       "  <tbody>\n",
       "    <tr>\n",
       "      <th>0</th>\n",
       "      <td>user5.berkeley.com</td>\n",
       "      <td>30</td>\n",
       "    </tr>\n",
       "    <tr>\n",
       "      <th>1</th>\n",
       "      <td>user4.isvc.com</td>\n",
       "      <td>22</td>\n",
       "    </tr>\n",
       "    <tr>\n",
       "      <th>2</th>\n",
       "      <td>user2.att.com</td>\n",
       "      <td>16</td>\n",
       "    </tr>\n",
       "    <tr>\n",
       "      <th>3</th>\n",
       "      <td>user1.comcast.com</td>\n",
       "      <td>15</td>\n",
       "    </tr>\n",
       "  </tbody>\n",
       "</table>\n",
       "</div>"
      ],
      "text/plain": [
       "                 Host  transactions\n",
       "0  user5.berkeley.com            30\n",
       "1      user4.isvc.com            22\n",
       "2       user2.att.com            16\n",
       "3   user1.comcast.com            15"
      ]
     },
     "execution_count": 84,
     "metadata": {},
     "output_type": "execute_result"
    }
   ],
   "source": [
    "pd.read_sql( 'SELECT Host, count() transactions FROM CART GROUP BY HOST ORDER BY count() desc', cnx) "
   ]
  },
  {
   "cell_type": "markdown",
   "metadata": {},
   "source": [
    "##### 6.3.8 How many each typr of events are there in  this game ?  "
   ]
  },
  {
   "cell_type": "code",
   "execution_count": 85,
   "metadata": {},
   "outputs": [
    {
     "data": {
      "text/html": [
       "<div>\n",
       "<style>\n",
       "    .dataframe thead tr:only-child th {\n",
       "        text-align: right;\n",
       "    }\n",
       "\n",
       "    .dataframe thead th {\n",
       "        text-align: left;\n",
       "    }\n",
       "\n",
       "    .dataframe tbody tr th {\n",
       "        vertical-align: top;\n",
       "    }\n",
       "</style>\n",
       "<table border=\"1\" class=\"dataframe\">\n",
       "  <thead>\n",
       "    <tr style=\"text-align: right;\">\n",
       "      <th></th>\n",
       "      <th>event_type</th>\n",
       "      <th>event_count</th>\n",
       "    </tr>\n",
       "  </thead>\n",
       "  <tbody>\n",
       "    <tr>\n",
       "      <th>0</th>\n",
       "      <td>purchase_sword</td>\n",
       "      <td>62</td>\n",
       "    </tr>\n",
       "    <tr>\n",
       "      <th>1</th>\n",
       "      <td>return_sword</td>\n",
       "      <td>12</td>\n",
       "    </tr>\n",
       "    <tr>\n",
       "      <th>2</th>\n",
       "      <td>return_gear</td>\n",
       "      <td>9</td>\n",
       "    </tr>\n",
       "  </tbody>\n",
       "</table>\n",
       "</div>"
      ],
      "text/plain": [
       "       event_type  event_count\n",
       "0  purchase_sword           62\n",
       "1    return_sword           12\n",
       "2     return_gear            9"
      ]
     },
     "execution_count": 85,
     "metadata": {},
     "output_type": "execute_result"
    }
   ],
   "source": [
    "pd.read_sql( 'SELECT event_type, count() event_count FROM CART GROUP BY event_type ORDER BY count() desc', cnx) "
   ]
  },
  {
   "cell_type": "markdown",
   "metadata": {},
   "source": [
    "##### 6.3.9 What is the total amount of refound for the returned products?  "
   ]
  },
  {
   "cell_type": "code",
   "execution_count": 86,
   "metadata": {},
   "outputs": [
    {
     "data": {
      "text/html": [
       "<div>\n",
       "<style>\n",
       "    .dataframe thead tr:only-child th {\n",
       "        text-align: right;\n",
       "    }\n",
       "\n",
       "    .dataframe thead th {\n",
       "        text-align: left;\n",
       "    }\n",
       "\n",
       "    .dataframe tbody tr th {\n",
       "        vertical-align: top;\n",
       "    }\n",
       "</style>\n",
       "<table border=\"1\" class=\"dataframe\">\n",
       "  <thead>\n",
       "    <tr style=\"text-align: right;\">\n",
       "      <th></th>\n",
       "      <th>sum(price)</th>\n",
       "    </tr>\n",
       "  </thead>\n",
       "  <tbody>\n",
       "    <tr>\n",
       "      <th>0</th>\n",
       "      <td>-4280.0</td>\n",
       "    </tr>\n",
       "  </tbody>\n",
       "</table>\n",
       "</div>"
      ],
      "text/plain": [
       "   sum(price)\n",
       "0     -4280.0"
      ]
     },
     "execution_count": 86,
     "metadata": {},
     "output_type": "execute_result"
    }
   ],
   "source": [
    "pd.read_sql( 'SELECT sum(price) FROM CART where event_type like \"return%\"  ', cnx) "
   ]
  }
 ],
 "metadata": {
  "environment": {
   "name": "common-cpu.m78",
   "type": "gcloud",
   "uri": "gcr.io/deeplearning-platform-release/base-cpu:m78"
  },
  "kernelspec": {
   "display_name": "Python 3",
   "language": "python",
   "name": "python3"
  },
  "language_info": {
   "codemirror_mode": {
    "name": "ipython",
    "version": 3
   },
   "file_extension": ".py",
   "mimetype": "text/x-python",
   "name": "python",
   "nbconvert_exporter": "python",
   "pygments_lexer": "ipython3",
   "version": "3.8.2"
  }
 },
 "nbformat": 4,
 "nbformat_minor": 4
}
